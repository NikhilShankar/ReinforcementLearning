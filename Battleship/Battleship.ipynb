{
 "cells": [
  {
   "metadata": {},
   "cell_type": "code",
   "outputs": [],
   "execution_count": null,
   "source": "",
   "id": "390d721857fa8875"
  },
  {
   "metadata": {},
   "cell_type": "markdown",
   "source": "#### **Final Project**\n",
   "id": "e7171143471a0b5"
  },
  {
   "metadata": {},
   "cell_type": "markdown",
   "source": "#### **Environment Code**",
   "id": "5d5fcd217ac79350"
  },
  {
   "metadata": {
    "ExecuteTime": {
     "end_time": "2025-02-28T04:44:16.854418Z",
     "start_time": "2025-02-28T04:44:16.831789Z"
    }
   },
   "cell_type": "code",
   "source": [
    "import gym\n",
    "from gym import spaces\n",
    "import numpy as np\n",
    "\n",
    "class BattleshipEnv(gym.Env):\n",
    "    def __init__(self):\n",
    "        super(BattleshipEnv, self).__init__()\n",
    "        self.grid_size = 10\n",
    "        self.ships = [5, 4, 3, 2, 2]  # Ship sizes\n",
    "        self.action_space = spaces.Discrete(self.grid_size * self.grid_size)  # 100 possible actions\n",
    "        self.observation_space = spaces.Box(low=0, high=3, shape=(self.grid_size, self.grid_size), dtype=np.int32)\n",
    "        self.reset()\n",
    "\n",
    "    def reset(self):\n",
    "        # Initialize the grid: 0 = empty, 1 = ship, 2 = hit, 3 = miss\n",
    "        self.grid = np.zeros((self.grid_size, self.grid_size), dtype=np.int32)\n",
    "        self.ship_positions = self.place_ships()\n",
    "        self.hits = set()\n",
    "        self.misses = set()\n",
    "        return self.grid.copy()\n",
    "\n",
    "    def place_ships(self):\n",
    "        positions = []\n",
    "        for ship in self.ships:\n",
    "            placed = False\n",
    "            while not placed:\n",
    "                orientation = np.random.choice(['horizontal', 'vertical'])\n",
    "                if orientation == 'horizontal':\n",
    "                    x = np.random.randint(0, self.grid_size)\n",
    "                    y = np.random.randint(0, self.grid_size - ship + 1)\n",
    "                    if all(self.grid[x, y + i] == 0 for i in range(ship)):\n",
    "                        for i in range(ship):\n",
    "                            self.grid[x, y + i] = 1\n",
    "                        positions.append((x, y, orientation, ship))\n",
    "                        placed = True\n",
    "                else:\n",
    "                    x = np.random.randint(0, self.grid_size - ship + 1)\n",
    "                    y = np.random.randint(0, self.grid_size)\n",
    "                    if all(self.grid[x + i, y] == 0 for i in range(ship)):\n",
    "                        for i in range(ship):\n",
    "                            self.grid[x + i, y] = 1\n",
    "                        positions.append((x, y, orientation, ship))\n",
    "                        placed = True\n",
    "        return positions\n",
    "\n",
    "    def step(self, action):\n",
    "        x = action // self.grid_size\n",
    "        y = action % self.grid_size\n",
    "        if (x, y) in self.hits or (x, y) in self.misses:\n",
    "            return self.grid.copy(), -1, False, {}  # Invalid move\n",
    "\n",
    "        if self.grid[x, y] == 1:  # Hit\n",
    "            self.grid[x, y] = 2\n",
    "            self.hits.add((x, y))\n",
    "            reward = 1\n",
    "        else:  # Miss\n",
    "            self.grid[x, y] = 3\n",
    "            self.misses.add((x, y))\n",
    "            reward = -1\n",
    "\n",
    "        done = len(self.hits) == sum(self.ships)  # All ships sunk\n",
    "        return self.grid.copy(), reward, done, {}\n",
    "\n",
    "    def render(self, mode='human'):\n",
    "        for row in self.grid:\n",
    "            print(\" \".join(str(cell) for cell in row))"
   ],
   "id": "46f0bb19b46d18cf",
   "outputs": [],
   "execution_count": 8
  },
  {
   "metadata": {},
   "cell_type": "markdown",
   "source": "#### **Q-Learning Code**",
   "id": "f9ba986f7c77c7a1"
  },
  {
   "metadata": {
    "ExecuteTime": {
     "end_time": "2025-02-28T04:42:58.655539Z",
     "start_time": "2025-02-28T04:42:58.648025Z"
    }
   },
   "cell_type": "code",
   "source": "",
   "id": "c8b3cad9c94cd2dd",
   "outputs": [],
   "execution_count": 5
  },
  {
   "metadata": {},
   "cell_type": "markdown",
   "source": "#### **Training**",
   "id": "e510c889b1840126"
  },
  {
   "metadata": {
    "ExecuteTime": {
     "end_time": "2025-02-28T04:58:32.839775Z",
     "start_time": "2025-02-28T04:44:32.827525Z"
    }
   },
   "cell_type": "code",
   "source": [
    "import numpy as np\n",
    "\n",
    "class QLearningAgent:\n",
    "    def __init__(self, env, alpha=0.1, gamma=0.99, epsilon=1.0, epsilon_decay=0.995, epsilon_min=0.01):\n",
    "        self.env = env\n",
    "        self.alpha = alpha  # Learning rate\n",
    "        self.gamma = gamma  # Discount factor\n",
    "        self.epsilon = epsilon  # Exploration rate\n",
    "        self.epsilon_decay = epsilon_decay\n",
    "        self.epsilon_min = epsilon_min\n",
    "        self.q_table = np.zeros((env.grid_size * env.grid_size, env.grid_size * env.grid_size))\n",
    "\n",
    "    def choose_action(self, state):\n",
    "        if np.random.rand() < self.epsilon:  # Explore\n",
    "            return np.random.choice(self.env.action_space.n)\n",
    "        else:  # Exploit\n",
    "            return np.argmax(self.q_table[state])\n",
    "\n",
    "    def update_q_table(self, state, action, reward, next_state):\n",
    "        best_next_action = np.argmax(self.q_table[next_state])\n",
    "        self.q_table[state, action] += self.alpha * (\n",
    "            reward + self.gamma * self.q_table[next_state, best_next_action] - self.q_table[state, action]\n",
    "        )\n",
    "\n",
    "    def decay_epsilon(self):\n",
    "        self.epsilon = max(self.epsilon_min, self.epsilon * self.epsilon_decay)\n",
    "\n",
    "# Thompson Sampling for exploration\n",
    "class ThompsonSamplingAgent:\n",
    "    def __init__(self, env):\n",
    "        self.env = env\n",
    "        self.successes = np.ones((env.grid_size, env.grid_size))\n",
    "        self.failures = np.ones((env.grid_size, env.grid_size))\n",
    "\n",
    "    def choose_action(self):\n",
    "        samples = np.random.beta(self.successes, self.failures)\n",
    "        x,y = np.unravel_index(np.argmax(samples), (self.env.grid_size, self.env.grid_size))\n",
    "        return x * self.env.grid_size + y\n",
    "\n",
    "    def update(self, action, hit):\n",
    "        if hit:\n",
    "            self.successes[action] += 1\n",
    "        else:\n",
    "            self.failures[action] += 1\n",
    "\n",
    "\n",
    "env = BattleshipEnv()\n",
    "exploration_agent = QLearningAgent(env)\n",
    "exploitation_agent = ThompsonSamplingAgent(env)\n",
    "\n",
    "# Training loop\n",
    "num_episodes = 10\n",
    "for episode in range(num_episodes):\n",
    "    state = env.reset()\n",
    "    done = False\n",
    "    while not done:\n",
    "        # Exploration phase\n",
    "        action = exploration_agent.choose_action(state)\n",
    "        next_state, reward, done, _ = env.step(action)\n",
    "        exploration_agent.update_q_table(state, action, reward, next_state)\n",
    "        exploration_agent.decay_epsilon()\n",
    "\n",
    "        # # Exploitation phase\n",
    "        # if reward == 1:  # If hit, use Thompson Sampling\n",
    "        #     action = exploitation_agent.choose_action()\n",
    "        #     next_state, reward, done, _ = env.step(action)\n",
    "        #     exploitation_agent.update(action, reward == 1)\n",
    "\n",
    "        # if next_state > 100:\n",
    "        #     print(f\"next : {next_state} reward: {reward} done: {done}\")\n",
    "        state = next_state\n",
    "\n",
    "    if episode % 100 == 0:\n",
    "        print(f\"Episode {episode}, Exploration Epsilon: {exploration_agent.epsilon}\")\n",
    "\n",
    "# Save the trained models\n",
    "np.save(\"exploration_q_table.npy\", exploration_agent.q_table)\n",
    "np.save(\"exploitation_successes.npy\", exploitation_agent.successes)\n",
    "np.save(\"exploitation_failures.npy\", exploitation_agent.failures)"
   ],
   "id": "7e09f54c53caaf26",
   "outputs": [
    {
     "name": "stdout",
     "output_type": "stream",
     "text": [
      "Episode 0, Exploration Epsilon: 0.47147873742168567\n"
     ]
    },
    {
     "name": "stderr",
     "output_type": "stream",
     "text": [
      "\n",
      "KeyboardInterrupt\n",
      "\n"
     ]
    }
   ],
   "execution_count": 9
  },
  {
   "metadata": {
    "ExecuteTime": {
     "end_time": "2025-02-28T04:28:12.520761Z",
     "start_time": "2025-02-28T04:28:12.511546Z"
    }
   },
   "cell_type": "code",
   "source": "",
   "id": "e5a65f15e5c62294",
   "outputs": [],
   "execution_count": null
  }
 ],
 "metadata": {
  "kernelspec": {
   "display_name": "Python 3",
   "language": "python",
   "name": "python3"
  },
  "language_info": {
   "codemirror_mode": {
    "name": "ipython",
    "version": 2
   },
   "file_extension": ".py",
   "mimetype": "text/x-python",
   "name": "python",
   "nbconvert_exporter": "python",
   "pygments_lexer": "ipython2",
   "version": "2.7.6"
  }
 },
 "nbformat": 4,
 "nbformat_minor": 5
}
