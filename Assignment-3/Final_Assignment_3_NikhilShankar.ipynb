{
 "cells": [
  {
   "cell_type": "markdown",
   "id": "1fc6d48172b72be0",
   "metadata": {
    "id": "1fc6d48172b72be0"
   },
   "source": [
    "#### **Assignment-3 Reinforcement learning programming**\n",
    "Submitted by : Nikhil Shankar Chirakkal Sivasankaran\n",
    "9026254"
   ]
  },
  {
   "cell_type": "markdown",
   "id": "82856fdacd0ff16b",
   "metadata": {
    "id": "82856fdacd0ff16b"
   },
   "source": [
    "### **Google Colab Setup + Dependency Import**"
   ]
  },
  {
   "cell_type": "code",
   "execution_count": null,
   "id": "fdb522e6",
   "metadata": {},
   "outputs": [],
   "source": [
    "import os\n",
    "import random\n",
    "import matplotlib.pyplot as plt\n",
    "from collections import deque\n",
    "from IPython import display\n",
    "import gym\n",
    "\n",
    "# For dependencies installation - with specific versions to avoid conflicts\n",
    "!pip install numpy==1.26.0 # Use compatible numpy version\n",
    "!pip install tensorflow\n",
    "!pip install gym  # Using older gym version instead of gymnasium\n",
    "!pip install gym[atari]\n",
    "!pip install opencv-python\n",
    "!pip install autorom\n",
    "!pip install autorom[accept-rom-license]\n",
    "\n",
    "import numpy as np\n",
    "import gym  # Using older gym instead of gymnasium\n",
    "import tensorflow as tf\n",
    "from tensorflow.keras.models import Sequential\n",
    "from tensorflow.keras.layers import Conv2D, Flatten, Dense\n",
    "from tensorflow.keras.optimizers import Adam"
   ]
  },
  {
   "cell_type": "markdown",
   "id": "fd72ef2460a2b80",
   "metadata": {
    "id": "fd72ef2460a2b80"
   },
   "source": [
    "#### **Provided Utils File**"
   ]
  },
  {
   "cell_type": "code",
   "execution_count": 41,
   "id": "1ef9c0602983b2a9",
   "metadata": {
    "id": "1ef9c0602983b2a9"
   },
   "outputs": [],
   "source": [
    "import numpy as np\n",
    "\n",
    "# This is specific to the pong environment\n",
    "def img_crop(img):\n",
    "    return img[30:-12,:,:]\n",
    "\n",
    "# GENERAL Atari preprocessing steps\n",
    "def downsample(img):\n",
    "    # We will take only half of the image resolution\n",
    "    return img[::2, ::2]\n",
    "\n",
    "def transform_reward(reward):\n",
    "    return np.sign(reward)\n",
    "\n",
    "def to_grayscale(img):\n",
    "    return np.mean(img, axis=2).astype(np.uint8)\n",
    "\n",
    "# Normalize grayscale image from -1 to 1.\n",
    "def normalize_grayscale(img):\n",
    "    return (img - 128) / 128 - 1\n",
    "\n",
    "def process_frame(img, image_shape):\n",
    "    img = img_crop(img)\n",
    "    img = downsample(img)    # Crop and downsize (by 2)\n",
    "    img = to_grayscale(img)       # Convert to greyscale by averaging the RGB values\n",
    "    img = normalize_grayscale(img)  # Normalize from -1 to 1.\n",
    "\n",
    "    return np.expand_dims(img.reshape(image_shape[0], image_shape[1], 1), axis=0)"
   ]
  },
  {
   "cell_type": "markdown",
   "id": "80bc723ed8f825e8",
   "metadata": {
    "id": "80bc723ed8f825e8"
   },
   "source": [
    "#### **Environment Hyperparameters**"
   ]
  },
  {
   "cell_type": "code",
   "execution_count": null,
   "id": "df9bebd286e34a7e",
   "metadata": {
    "colab": {
     "base_uri": "https://localhost:8080/"
    },
    "id": "df9bebd286e34a7e",
    "outputId": "cf8214bf-83d6-4f5a-f84b-acbd334e1a7f"
   },
   "outputs": [
    {
     "name": "stdout",
     "output_type": "stream",
     "text": [
      "Using environment: PongDeterministic-v4\n"
     ]
    }
   ],
   "source": [
    "#Using Deterministic version of Pong\n",
    "ENV_NAME = 'PongDeterministic-v4'\n",
    "#Had to update the image size to (84,80) since encountered a shape mismatch error\n",
    "IMAGE_SHAPE = (84, 80)  \n",
    "#Stacking 4 frames together to reduce the training time.\n",
    "STACK_SIZE = 4          \n",
    "\n",
    "#Initial training will be run on batch size of 8, will run another round of training for 16 as well.\n",
    "BATCH_SIZE = 8            \n",
    "#Since running huge amount of episodes is not viable since colab is getting disconnected every 1 hour. \n",
    "#Using 10 episodes with frame wise split of updates. Every 1000 frames we will be updating/training the target model.\n",
    "TARGET_UPDATE_FREQ = 1000    \n",
    "GAMMA = 0.99 \n",
    "MEMORY_SIZE = 10000         \n",
    "TRAINING_START = 1000                 \n",
    "EPSILON_DECAY = 0.995       \n",
    "TRAINING_START = 10000      \n",
    "LEARNING_RATE = 0.00025     \n",
    "EPSILON_INIT = 1.0          \n",
    "EPSILON_DECAY = 0.9995      \n",
    "EPSILON_MIN = 0.05              "
   ]
  },
  {
   "cell_type": "markdown",
   "id": "a2fc9a60d57e49f0",
   "metadata": {
    "id": "a2fc9a60d57e49f0"
   },
   "source": [
    "#### **Experience Replay Buffer**\n",
    "- (state, action, reward, next_state, done)\n"
   ]
  },
  {
   "cell_type": "code",
   "execution_count": 43,
   "id": "initial_id",
   "metadata": {
    "collapsed": true,
    "id": "initial_id"
   },
   "outputs": [],
   "source": [
    "class ReplayBuffer:\n",
    "    def __init__(self, capacity):\n",
    "        self.buffer = deque(maxlen=capacity)\n",
    "\n",
    "    def add(self, state, action, reward, next_state, done):\n",
    "        \"\"\"Add a new experience to the buffer\"\"\"\n",
    "        self.buffer.append((state, action, reward, next_state, done))\n",
    "\n",
    "    def sample(self, batch_size):\n",
    "        \"\"\"Randomly sample a batch of experiences from the buffer\"\"\"\n",
    "        samples = random.sample(self.buffer, batch_size)\n",
    "        states, actions, rewards, next_states, dones = map(np.array, zip(*samples))\n",
    "        return states, actions, rewards, next_states, dones\n",
    "\n",
    "    def size(self):\n",
    "        \"\"\"Return the current size of the buffer\"\"\"\n",
    "        return len(self.buffer)"
   ]
  },
  {
   "cell_type": "markdown",
   "id": "a4398cb9131fe11c",
   "metadata": {
    "id": "a4398cb9131fe11c"
   },
   "source": [
    "#### **Deep Q-Network CNN Architecture**\n",
    "- Input : Convolutional layers\n",
    "- Output : Q-Values\n",
    "- Using Sequential CNN with three hidden layers.\n",
    "- Using Mean Squared Error for training loss tracking\n",
    "- Using Adam Optimizer for Learning rate"
   ]
  },
  {
   "cell_type": "code",
   "execution_count": null,
   "id": "eec2ebf30babc361",
   "metadata": {
    "id": "eec2ebf30babc361"
   },
   "outputs": [],
   "source": [
    "def build_dqn(input_shape, n_actions):\n",
    "    model = Sequential([\n",
    "        # Convolutional Layers for game frame processing\n",
    "        Conv2D(32, 8, strides=4, activation='relu', input_shape=input_shape),\n",
    "        Conv2D(64, 4, strides=2, activation='relu'),\n",
    "        Conv2D(64, 3, strides=1, activation='relu'),\n",
    "        Flatten(),\n",
    "        Dense(512, activation='relu'),\n",
    "        #Q Value output\n",
    "        Dense(n_actions, activation='linear') \n",
    "    ])\n",
    "    model.compile(optimizer=Adam(learning_rate=LEARNING_RATE), loss='mse')\n",
    "    return model"
   ]
  },
  {
   "cell_type": "markdown",
   "id": "900427551a64991a",
   "metadata": {
    "id": "900427551a64991a"
   },
   "source": [
    "#### **DQN-Agent**"
   ]
  },
  {
   "cell_type": "code",
   "execution_count": null,
   "id": "204db4691d2c9834",
   "metadata": {
    "id": "204db4691d2c9834"
   },
   "outputs": [],
   "source": [
    "class DQNAgent:\n",
    "    def __init__(self, state_shape, n_actions):\n",
    "        self.state_shape = state_shape\n",
    "        self.n_actions = n_actions\n",
    "        self.epsilon = EPSILON_INIT\n",
    "\n",
    "        #Defining Target and Main Models\n",
    "        self.model = build_dqn(state_shape, n_actions)        \n",
    "        self.target_model = build_dqn(state_shape, n_actions) \n",
    "        self.update_target()  \n",
    "\n",
    "        #Declaring replay buffer created earlier\n",
    "        self.memory = ReplayBuffer(MEMORY_SIZE)\n",
    "\n",
    "        # Initialize trackers\n",
    "        self.frame_count = 0\n",
    "        self.episode_count = 0\n",
    "\n",
    "    def update_target(self):\n",
    "        self.target_model.set_weights(self.model.get_weights())\n",
    "\n",
    "    def get_action(self, state):\n",
    "        # Exploration stage\n",
    "        if np.random.rand() < self.epsilon:\n",
    "            return random.randrange(self.n_actions)\n",
    "\n",
    "        # Otherwise exploitation\n",
    "        q_values = self.model.predict(state, verbose=0)\n",
    "        return np.argmax(q_values[0])\n",
    "\n",
    "    \n",
    "    def train(self):\n",
    "      if self.memory.size() < TRAINING_START:\n",
    "          self.frame_count += 1\n",
    "          return 0 \n",
    "\n",
    "      states, actions, rewards, next_states, dones = self.memory.sample(BATCH_SIZE)\n",
    "\n",
    "\n",
    "      states = states.reshape(BATCH_SIZE, self.state_shape[0], self.state_shape[1], self.state_shape[2])\n",
    "      next_states = next_states.reshape(BATCH_SIZE, self.state_shape[0], self.state_shape[1], self.state_shape[2])\n",
    "\n",
    "\n",
    "      next_q_values = self.target_model.predict(next_states, verbose=0)\n",
    "\n",
    "      next_actions = np.argmax(self.model.predict(next_states, verbose=0), axis=1)\n",
    "      max_next_q = next_q_values[np.arange(BATCH_SIZE), next_actions]\n",
    "\n",
    "      targets = rewards + (1 - dones) * GAMMA * max_next_q\n",
    "\n",
    "      current_q = self.model.predict(states, verbose=0)\n",
    "      batch_indices = np.arange(BATCH_SIZE)\n",
    "      current_q[batch_indices, actions] = targets\n",
    "\n",
    "      loss = self.model.train_on_batch(states, current_q)\n",
    "\n",
    "      if self.frame_count % 4 == 0 and self.epsilon > EPSILON_MIN:  \n",
    "          self.epsilon = max(EPSILON_MIN, self.epsilon * EPSILON_DECAY)\n",
    "\n",
    "      #Important : In the interest of time Keeping this to frame based update every 1000 frames.\n",
    "      #In the assignment its asking for every 10 episode update, which will be done in the last part.\n",
    "      if self.frame_count % TARGET_UPDATE_FREQ == 0:\n",
    "          self.update_target()\n",
    "          print(f\"Updated target network at frame {self.frame_count}\")\n",
    "\n",
    "      self.frame_count += 1\n",
    "      return loss\n",
    "\n",
    "    def store_transition(self, state, action, reward, next_state, done):\n",
    "        self.memory.add(state, action, reward, next_state, done)\n",
    "\n",
    "    def save_model(self, filepath):\n",
    "        self.model.save(filepath)\n",
    "\n",
    "    def load_model(self, filepath):\n",
    "        self.model = tf.keras.models.load_model(filepath)\n",
    "        self.update_target()"
   ]
  },
  {
   "cell_type": "markdown",
   "id": "d02014e9f5a1cdf6",
   "metadata": {
    "id": "d02014e9f5a1cdf6"
   },
   "source": [
    "#### **Frame Processing Helper**\n",
    "- To reduce processing time we combine multiple frames."
   ]
  },
  {
   "cell_type": "code",
   "execution_count": null,
   "id": "b1acf47fbbb11d43",
   "metadata": {
    "id": "b1acf47fbbb11d43"
   },
   "outputs": [],
   "source": [
    "class FrameStacker:\n",
    "    def __init__(self, image_shape, stack_size):\n",
    "        self.image_shape = image_shape\n",
    "        self.stack_size = stack_size\n",
    "        self.frames = np.zeros((1, image_shape[0], image_shape[1], stack_size))\n",
    "\n",
    "    def reset(self, frame):\n",
    "        processed_frame = process_frame(frame, self.image_shape)\n",
    "        for i in range(self.stack_size):\n",
    "            self.frames[0, :, :, i] = processed_frame[0, :, :, 0]\n",
    "        return self.frames\n",
    "\n",
    "    def add_frame(self, frame):\n",
    "        processed_frame = process_frame(frame, self.image_shape)\n",
    "        self.frames[0, :, :, :-1] = self.frames[0, :, :, 1:]\n",
    "        self.frames[0, :, :, -1] = processed_frame[0, :, :, 0]\n",
    "        return self.frames\n"
   ]
  },
  {
   "cell_type": "markdown",
   "id": "90438b60a9c280ad",
   "metadata": {
    "id": "90438b60a9c280ad"
   },
   "source": [
    "#### **Model Training**"
   ]
  },
  {
   "cell_type": "code",
   "execution_count": null,
   "id": "2724c3f41c83006",
   "metadata": {
    "id": "2724c3f41c83006"
   },
   "outputs": [],
   "source": [
    "def train_dqn(env_name, total_episodes=20, render=True, type=\"batch_8\"):\n",
    "    from google.colab import drive\n",
    "    drive.mount('/content/drive', force_remount=True)\n",
    "\n",
    "    import os\n",
    "    save_path = '/content/drive/MyDrive/pong_dqn_models_' + type\n",
    "    os.makedirs(save_path, exist_ok=True)\n",
    "\n",
    "    env = gym.make(env_name, render_mode='rgb_array')\n",
    "    n_actions = env.action_space.n\n",
    "\n",
    "    print(f\"Environment: {env_name}\")\n",
    "    print(f\"Observation Space: {env.observation_space}\")\n",
    "    print(f\"Action Space: {env.action_space}\")\n",
    "\n",
    "    # Initialize the agent\n",
    "    agent = DQNAgent((IMAGE_SHAPE[0], IMAGE_SHAPE[1], STACK_SIZE), n_actions)\n",
    "\n",
    "    episode_rewards = []\n",
    "    episode_losses = []\n",
    "\n",
    "    # Import numpy here, inside the function's scope\n",
    "    import numpy as np\n",
    "\n",
    "    for episode in range(total_episodes):\n",
    "        # Reset environment and get initial state (old gym API)\n",
    "        observation, _ = env.reset()\n",
    "        frame_stacker = FrameStacker(IMAGE_SHAPE, STACK_SIZE)\n",
    "        state = frame_stacker.reset(observation)\n",
    "\n",
    "        episode_reward = 0\n",
    "        episode_loss = []\n",
    "        done = False\n",
    "        step = 0\n",
    "\n",
    "        # Run one episode\n",
    "        while not done:\n",
    "            # Select action using epsilon-greedy policy\n",
    "            action = agent.get_action(state)\n",
    "\n",
    "            # Execute action in the environment\n",
    "            next_observation, reward, terminated, truncated, _ = env.step(action)\n",
    "            done = terminated or truncated\n",
    "\n",
    "            # Process reward (clip to -1, 0, 1 as per standard DQN implementation)\n",
    "            processed_reward = transform_reward(reward)\n",
    "\n",
    "            # Stack frames for next state\n",
    "            next_state = frame_stacker.add_frame(next_observation)\n",
    "\n",
    "            # Store transition in replay buffer\n",
    "            agent.store_transition(state, action, processed_reward, next_state, done)\n",
    "\n",
    "            # Train agent\n",
    "            loss = agent.train()\n",
    "            if loss != 0:\n",
    "                episode_loss.append(loss)\n",
    "\n",
    "            # Update state and accumulate reward\n",
    "            state = next_state\n",
    "            episode_reward += reward\n",
    "            step += 1\n",
    "\n",
    "            # Render if required (every 10 episodes to avoid slowing down training)\n",
    "            if render and episode % 10 == 0:\n",
    "                display.clear_output(wait=True)\n",
    "                plt.imshow(env.render())\n",
    "                plt.axis('off')\n",
    "                display.display(plt.gcf())\n",
    "                plt.clf()\n",
    "\n",
    "        # Update target network according to update frequency\n",
    "        agent.episode_count += 1\n",
    "        if agent.episode_count % TARGET_UPDATE_FREQ == 0:\n",
    "            agent.update_target()\n",
    "            print(f\"Updated target network at episode {agent.episode_count}\")\n",
    "\n",
    "        # Record metrics\n",
    "        episode_rewards.append(episode_reward)\n",
    "        if episode_loss:\n",
    "            episode_losses.append(np.mean(episode_loss))\n",
    "        else:\n",
    "            episode_losses.append(0)\n",
    "\n",
    "        # Print progress\n",
    "        print(f\"Episode {episode+1}/{total_episodes}, Steps: {step}, Reward: {episode_reward}, Epsilon: {agent.epsilon:.4f}\")\n",
    "\n",
    "        # Save model every 3 episodes to Google Drive\n",
    "        if (episode + 1) % 5 == 0:\n",
    "            model_path = os.path.join(save_path, f\"pong_dqn_episode_{episode+1}.keras\")\n",
    "            agent.save_model(model_path)\n",
    "            print(f\"Model saved at episode {episode+1} to {model_path}\")\n",
    "\n",
    "    # Save final model to Google Drive\n",
    "    final_model_path = os.path.join(save_path, \"pong_dqn_final.keras\")\n",
    "    agent.save_model(final_model_path)\n",
    "    print(f\"Final model saved to {final_model_path}!\")\n",
    "\n",
    "    # Also save the training metrics to Google Drive\n",
    "    import numpy as np\n",
    "    metrics_path = os.path.join(save_path, \"training_metrics.npz\")\n",
    "    np.savez(metrics_path, rewards=episode_rewards, losses=episode_losses)\n",
    "    print(f\"Training metrics saved to {metrics_path}\")\n",
    "\n",
    "    env.close()\n",
    "\n",
    "    return episode_rewards, episode_losses"
   ]
  },
  {
   "cell_type": "markdown",
   "id": "ee02d983cb18f6bc",
   "metadata": {
    "id": "ee02d983cb18f6bc"
   },
   "source": [
    "## **Training With Batch Size - 8**\n",
    "##### Updated every thousand frames\n",
    "- Moving Average Calculated for Better Visualization\n"
   ]
  },
  {
   "cell_type": "code",
   "execution_count": 48,
   "id": "410959057929a1e",
   "metadata": {
    "colab": {
     "base_uri": "https://localhost:8080/",
     "height": 958
    },
    "id": "410959057929a1e",
    "outputId": "9c0e1ed2-e73b-4acd-a32f-41651aa454b8"
   },
   "outputs": [
    {
     "name": "stdout",
     "output_type": "stream",
     "text": [
      "Mounted at /content/drive\n",
      "Environment: PongDeterministic-v4\n",
      "Observation Space: Box(0, 255, (210, 160, 3), uint8)\n",
      "Action Space: Discrete(6)\n",
      "Episode 1/10, Steps: 881, Reward: -21.0, Epsilon: 1.0000\n",
      "Updated target network at frame 1000\n",
      "Episode 2/10, Steps: 850, Reward: -21.0, Epsilon: 0.9125\n",
      "Updated target network at frame 2000\n",
      "Episode 3/10, Steps: 811, Reward: -21.0, Epsilon: 0.8244\n",
      "Updated target network at frame 3000\n",
      "Episode 4/10, Steps: 792, Reward: -21.0, Epsilon: 0.7467\n",
      "Updated target network at frame 4000\n",
      "Episode 5/10, Steps: 948, Reward: -19.0, Epsilon: 0.6633\n",
      "Model saved at episode 5 to /content/drive/MyDrive/pong_dqn_models_batch_8/pong_dqn_episode_5.keras\n",
      "Updated target network at frame 5000\n",
      "Episode 6/10, Steps: 947, Reward: -20.0, Epsilon: 0.5891\n",
      "Updated target network at frame 6000\n",
      "Episode 7/10, Steps: 876, Reward: -21.0, Epsilon: 0.5280\n",
      "Episode 8/10, Steps: 792, Reward: -21.0, Epsilon: 0.4782\n",
      "Updated target network at frame 7000\n",
      "Episode 9/10, Steps: 811, Reward: -21.0, Epsilon: 0.4323\n",
      "Updated target network at frame 8000\n",
      "Episode 10/10, Steps: 867, Reward: -20.0, Epsilon: 0.3878\n",
      "Model saved at episode 10 to /content/drive/MyDrive/pong_dqn_models_batch_8/pong_dqn_episode_10.keras\n",
      "Final model saved to /content/drive/MyDrive/pong_dqn_models_batch_8/pong_dqn_final.keras!\n",
      "Training metrics saved to /content/drive/MyDrive/pong_dqn_models_batch_8/training_metrics.npz\n"
     ]
    },
    {
     "data": {
      "image/png": "[encoded data removed]",
      "text/plain": [
       "<Figure size 1200x500 with 2 Axes>"
      ]
     },
     "metadata": {},
     "output_type": "display_data"
    }
   ],
   "source": [
    "rewards, losses = train_dqn(ENV_NAME, total_episodes=10, render=False, type=\"batch_8\")\n",
    "\n",
    "## Visualize Training Results\n",
    "\"\"\"\n",
    "This code visualizes the training progress by plotting the rewards and losses.\n",
    "\"\"\"\n",
    "# Plot the rewards\n",
    "plt.figure(figsize=(12, 5))\n",
    "plt.subplot(1, 2, 1)\n",
    "plt.plot(rewards)\n",
    "plt.title('Episode Rewards')\n",
    "plt.xlabel('Episode')\n",
    "plt.ylabel('Reward')\n",
    "plt.grid(True)\n",
    "\n",
    "# Adding a moving average to see trends better\n",
    "if len(rewards) > 10:\n",
    "    moving_avg = np.convolve(rewards, np.ones(10)/10, mode='valid')\n",
    "    plt.plot(range(9, len(rewards)), moving_avg, 'r', label='10-episode moving average')\n",
    "    plt.legend()\n",
    "\n",
    "# Plot the losses\n",
    "plt.subplot(1, 2, 2)\n",
    "plt.plot(losses)\n",
    "plt.title('Training Loss')\n",
    "plt.xlabel('Episode')\n",
    "plt.ylabel('Loss')\n",
    "plt.grid(True)\n",
    "\n",
    "plt.tight_layout()\n",
    "plt.savefig('training_results.png')  # Save the figure\n",
    "plt.show()"
   ]
  },
  {
   "cell_type": "markdown",
   "id": "6ea717f2d845c589",
   "metadata": {
    "id": "6ea717f2d845c589"
   },
   "source": [
    "## **Evaluating Batch - 8**"
   ]
  },
  {
   "cell_type": "code",
   "execution_count": 54,
   "id": "66e5caacebf69ec7",
   "metadata": {
    "id": "66e5caacebf69ec7"
   },
   "outputs": [],
   "source": [
    "import gym\n",
    "\n",
    "def evaluate_agent(env_name, model_filename, n_episodes=5, render=True, type=\"batch_8\"):\n",
    "    from google.colab import drive\n",
    "    drive.mount('/content/drive', force_remount=False)  # Don't force remount if already mounted\n",
    "\n",
    "    # Construct path to the model file\n",
    "    model_path = f'/content/drive/MyDrive/pong_dqn_models_{type}/{model_filename}'\n",
    "    print(f\"Loading model from: {model_path}\")\n",
    "    \"\"\"Evaluate a trained DQN agent.\"\"\"\n",
    "    env = gym.make(env_name, render_mode='rgb_array')\n",
    "    n_actions = env.action_space.n\n",
    "\n",
    "    # Load the agent\n",
    "    agent = DQNAgent((IMAGE_SHAPE[0], IMAGE_SHAPE[1], STACK_SIZE), n_actions)\n",
    "    agent.load_model(model_path)\n",
    "    # Use a small epsilon for some exploration during evaluation\n",
    "    agent.epsilon = 0.05\n",
    "\n",
    "    total_rewards = []\n",
    "\n",
    "    for episode in range(n_episodes):\n",
    "        observation, _ = env.reset()\n",
    "        frame_stacker = FrameStacker(IMAGE_SHAPE, STACK_SIZE)\n",
    "        state = frame_stacker.reset(observation)\n",
    "\n",
    "        episode_reward = 0\n",
    "        done = False\n",
    "        step = 0\n",
    "\n",
    "        while not done:\n",
    "            # Select action\n",
    "            action = agent.get_action(state)\n",
    "\n",
    "            # Execute action\n",
    "            next_observation, reward, terminated, truncated, _ = env.step(action)\n",
    "            done = terminated or truncated\n",
    "\n",
    "            # Stack frames for next state\n",
    "            next_state = frame_stacker.add_frame(next_observation)\n",
    "\n",
    "            # Update state and accumulate reward\n",
    "            state = next_state\n",
    "            episode_reward += reward\n",
    "            step += 1\n",
    "\n",
    "            # Render if required\n",
    "            if render:\n",
    "                display.clear_output(wait=True)\n",
    "                plt.imshow(env.render())\n",
    "                plt.axis('off')\n",
    "                display.display(plt.gcf())\n",
    "                plt.clf()\n",
    "\n",
    "        total_rewards.append(episode_reward)\n",
    "        print(f\"Evaluation Episode {episode+1}/{n_episodes}, Steps: {step}, Reward: {episode_reward}\")\n",
    "\n",
    "    # Calculate statistics\n",
    "    avg_reward = np.mean(total_rewards)\n",
    "    std_reward = np.std(total_rewards)\n",
    "\n",
    "    print(f\"Evaluation Results:\")\n",
    "    print(f\"Average Reward: {avg_reward:.2f} ± {std_reward:.2f}\")\n",
    "    print(f\"Min Reward: {np.min(total_rewards)}\")\n",
    "    print(f\"Max Reward: {np.max(total_rewards)}\")\n",
    "\n",
    "    env.close()\n",
    "    return total_rewards"
   ]
  },
  {
   "cell_type": "code",
   "execution_count": null,
   "id": "IpmPnUpXZXb6",
   "metadata": {
    "colab": {
     "base_uri": "https://localhost:8080/",
     "height": 527
    },
    "id": "IpmPnUpXZXb6",
    "outputId": "dd9ad579-74b3-4afa-8712-ceb980054656"
   },
   "outputs": [
    {
     "data": {
      "image/png": "[encoded data removed]",
      "text/plain": [
       "<Figure size 640x480 with 1 Axes>"
      ]
     },
     "metadata": {},
     "output_type": "display_data"
    },
    {
     "name": "stdout",
     "output_type": "stream",
     "text": [
      "Evaluation Episode 5/5, Steps: 764, Reward: -21.0\n",
      "Evaluation Results:\n",
      "Average Reward: -20.80 ± 0.40\n",
      "Min Reward: -21.0\n",
      "Max Reward: -20.0\n",
      "Average Evaluation Reward: -20.8\n"
     ]
    },
    {
     "data": {
      "text/plain": [
       "<Figure size 640x480 with 0 Axes>"
      ]
     },
     "metadata": {},
     "output_type": "display_data"
    }
   ],
   "source": [
    "#Name of the saved model at the end of the training inside folder \"batch_8\"\n",
    "evaluation_rewards = evaluate_agent(ENV_NAME, \"pong_dqn_final.keras\", n_episodes=5, type=\"batch_8\")\n",
    "print(f\"Average Evaluation Reward: {np.mean(evaluation_rewards)}\")"
   ]
  },
  {
   "cell_type": "markdown",
   "id": "e2a7203a",
   "metadata": {
    "id": "ee02d983cb18f6bc"
   },
   "source": [
    "## **Training Batch Size - 16**\n",
    "##### Updated every 1000 frames\n"
   ]
  },
  {
   "cell_type": "code",
   "execution_count": 27,
   "id": "212dbaef",
   "metadata": {
    "colab": {
     "base_uri": "https://localhost:8080/",
     "height": 976
    },
    "id": "410959057929a1e",
    "outputId": "c45174ef-a205-46cb-ebc6-daa696a4a507"
   },
   "outputs": [
    {
     "name": "stdout",
     "output_type": "stream",
     "text": [
      "Mounted at /content/drive\n",
      "Environment: PongDeterministic-v4\n",
      "Observation Space: Box(0, 255, (210, 160, 3), uint8)\n",
      "Action Space: Discrete(6)\n",
      "Updated target network at frame 1000\n",
      "Episode 1/10, Steps: 1055, Reward: -20.0, Epsilon: 0.9986\n",
      "Episode 2/10, Steps: 783, Reward: -21.0, Epsilon: 0.9792\n",
      "Updated target network at frame 2000\n",
      "Episode 3/10, Steps: 932, Reward: -20.0, Epsilon: 0.9567\n",
      "Updated target network at frame 3000\n",
      "Episode 4/10, Steps: 954, Reward: -21.0, Epsilon: 0.9342\n",
      "Updated target network at frame 4000\n",
      "Episode 5/10, Steps: 838, Reward: -20.0, Epsilon: 0.9148\n",
      "Model saved at episode 5 to /content/drive/MyDrive/pong_dqn_models_batch_16/pong_dqn_episode_5.keras\n",
      "Updated target network at frame 5000\n",
      "Episode 6/10, Steps: 1105, Reward: -19.0, Epsilon: 0.8898\n",
      "Updated target network at frame 6000\n",
      "Episode 7/10, Steps: 903, Reward: -20.0, Epsilon: 0.8700\n",
      "Updated target network at frame 7000\n",
      "Episode 8/10, Steps: 856, Reward: -21.0, Epsilon: 0.8515\n",
      "Updated target network at frame 8000\n",
      "Episode 9/10, Steps: 947, Reward: -20.0, Epsilon: 0.8316\n",
      "Updated target network at frame 9000\n",
      "Episode 10/10, Steps: 888, Reward: -21.0, Epsilon: 0.8133\n",
      "Model saved at episode 10 to /content/drive/MyDrive/pong_dqn_models_batch_16/pong_dqn_episode_10.keras\n",
      "Final model saved to /content/drive/MyDrive/pong_dqn_models_batch_16/pong_dqn_final.keras!\n",
      "Training metrics saved to /content/drive/MyDrive/pong_dqn_models_batch_16/training_metrics.npz\n"
     ]
    },
    {
     "data": {
      "image/png": "[encoded data removed]",
      "text/plain": [
       "<Figure size 1200x500 with 2 Axes>"
      ]
     },
     "metadata": {},
     "output_type": "display_data"
    }
   ],
   "source": [
    "rewards, losses = train_dqn(ENV_NAME, total_episodes=10, render=False, type=\"batch_16\")\n",
    "\n",
    "## Visualize Training Results\n",
    "\"\"\"\n",
    "This code visualizes the training progress by plotting the rewards and losses.\n",
    "\"\"\"\n",
    "# Plot the rewards\n",
    "plt.figure(figsize=(12, 5))\n",
    "plt.subplot(1, 2, 1)\n",
    "plt.plot(rewards)\n",
    "plt.title('Episode Rewards')\n",
    "plt.xlabel('Episode')\n",
    "plt.ylabel('Reward')\n",
    "plt.grid(True)\n",
    "\n",
    "# Adding a moving average to see trends better\n",
    "if len(rewards) > 10:\n",
    "    moving_avg = np.convolve(rewards, np.ones(10)/10, mode='valid')\n",
    "    plt.plot(range(9, len(rewards)), moving_avg, 'r', label='10-episode moving average')\n",
    "    plt.legend()\n",
    "\n",
    "# Plot the losses\n",
    "plt.subplot(1, 2, 2)\n",
    "plt.plot(losses)\n",
    "plt.title('Training Loss')\n",
    "plt.xlabel('Episode')\n",
    "plt.ylabel('Loss')\n",
    "plt.grid(True)\n",
    "\n",
    "plt.tight_layout()\n",
    "plt.savefig('training_results.png')  # Save the figure\n",
    "plt.show()"
   ]
  },
  {
   "cell_type": "markdown",
   "id": "8fe927c6",
   "metadata": {
    "id": "6ea717f2d845c589"
   },
   "source": [
    "#### **Evaluation**"
   ]
  },
  {
   "cell_type": "code",
   "execution_count": 28,
   "id": "9790b2f8",
   "metadata": {
    "id": "66e5caacebf69ec7"
   },
   "outputs": [],
   "source": [
    "import gym\n",
    "\n",
    "def evaluate_agent(env_name, model_filename, n_episodes=5, render=True, type=\"batch_16\"):\n",
    "    from google.colab import drive\n",
    "    drive.mount('/content/drive', force_remount=False)  # Don't force remount if already mounted\n",
    "\n",
    "    # Construct path to the model file\n",
    "    model_path = f'/content/drive/MyDrive/pong_dqn_models_{type}/{model_filename}'\n",
    "    print(f\"Loading model from: {model_path}\")\n",
    "    \"\"\"Evaluate a trained DQN agent.\"\"\"\n",
    "    env = gym.make(env_name, render_mode='rgb_array')\n",
    "    n_actions = env.action_space.n\n",
    "\n",
    "    # Load the agent\n",
    "    agent = DQNAgent((IMAGE_SHAPE[0], IMAGE_SHAPE[1], STACK_SIZE), n_actions)\n",
    "    agent.load_model(model_path)\n",
    "    # Use a small epsilon for some exploration during evaluation\n",
    "    agent.epsilon = 0.05\n",
    "\n",
    "    total_rewards = []\n",
    "\n",
    "    for episode in range(n_episodes):\n",
    "        observation, _ = env.reset()\n",
    "        frame_stacker = FrameStacker(IMAGE_SHAPE, STACK_SIZE)\n",
    "        state = frame_stacker.reset(observation)\n",
    "\n",
    "        episode_reward = 0\n",
    "        done = False\n",
    "        step = 0\n",
    "\n",
    "        while not done:\n",
    "            # Select action\n",
    "            action = agent.get_action(state)\n",
    "\n",
    "            # Execute action\n",
    "            next_observation, reward, terminated, truncated, _ = env.step(action)\n",
    "            done = terminated or truncated\n",
    "\n",
    "            # Stack frames for next state\n",
    "            next_state = frame_stacker.add_frame(next_observation)\n",
    "\n",
    "            # Update state and accumulate reward\n",
    "            state = next_state\n",
    "            episode_reward += reward\n",
    "            step += 1\n",
    "\n",
    "            # Render if required\n",
    "            if render:\n",
    "                display.clear_output(wait=True)\n",
    "                plt.imshow(env.render())\n",
    "                plt.axis('off')\n",
    "                display.display(plt.gcf())\n",
    "                plt.clf()\n",
    "\n",
    "        total_rewards.append(episode_reward)\n",
    "        print(f\"Evaluation Episode {episode+1}/{n_episodes}, Steps: {step}, Reward: {episode_reward}\")\n",
    "\n",
    "    # Calculate statistics\n",
    "    avg_reward = np.mean(total_rewards)\n",
    "    std_reward = np.std(total_rewards)\n",
    "\n",
    "    print(f\"Evaluation Results:\")\n",
    "    print(f\"Average Reward: {avg_reward:.2f} ± {std_reward:.2f}\")\n",
    "    print(f\"Min Reward: {np.min(total_rewards)}\")\n",
    "    print(f\"Max Reward: {np.max(total_rewards)}\")\n",
    "\n",
    "    env.close()\n",
    "    return total_rewards"
   ]
  },
  {
   "cell_type": "code",
   "execution_count": null,
   "id": "4ddded72",
   "metadata": {
    "colab": {
     "base_uri": "https://localhost:8080/",
     "height": 528
    },
    "id": "IpmPnUpXZXb6",
    "outputId": "857f1ab9-1ca7-44db-b880-8e85c01d9676"
   },
   "outputs": [
    {
     "data": {
      "image/png": "[encoded data removed]",
      "text/plain": [
       "<Figure size 640x480 with 1 Axes>"
      ]
     },
     "metadata": {},
     "output_type": "display_data"
    },
    {
     "name": "stdout",
     "output_type": "stream",
     "text": [
      "Evaluation Episode 5/5, Steps: 824, Reward: -21.0\n",
      "Evaluation Results:\n",
      "Average Reward: -21.00 ± 0.00\n",
      "Min Reward: -21.0\n",
      "Max Reward: -21.0\n",
      "Average Evaluation Reward: -21.0\n"
     ]
    },
    {
     "data": {
      "text/plain": [
       "<Figure size 640x480 with 0 Axes>"
      ]
     },
     "metadata": {},
     "output_type": "display_data"
    }
   ],
   "source": [
    "#Using the trained model saved in drive in another folder for batch_16\n",
    "evaluation_rewards = evaluate_agent(ENV_NAME, \"pong_dqn_final.keras\", n_episodes=5, type=\"batch_16\")\n",
    "print(f\"Average Evaluation Reward: {np.mean(evaluation_rewards)}\")"
   ]
  },
  {
   "cell_type": "markdown",
   "id": "rhd3SGv1xYEh",
   "metadata": {
    "id": "rhd3SGv1xYEh"
   },
   "source": [
    "## **Training Batch-16, Update every 500 frames**\n",
    "- Previously we updated every 1000 frames"
   ]
  },
  {
   "cell_type": "code",
   "execution_count": null,
   "id": "4WMmyV6wxNnD",
   "metadata": {
    "id": "4WMmyV6wxNnD"
   },
   "outputs": [],
   "source": [
    "#Using Deterministic version of Pong\n",
    "ENV_NAME = 'PongDeterministic-v4'\n",
    "#Had to update the image size to (84,80) since encountered a shape mismatch error\n",
    "IMAGE_SHAPE = (84, 80)  \n",
    "#Stacking 4 frames together to reduce the training time.\n",
    "STACK_SIZE = 4          \n",
    "\n",
    "#Initial training will be run on batch size of 8, will run another round of training for 16 as well.\n",
    "BATCH_SIZE = 8            \n",
    "\n",
    "\n",
    "#Important Change is here. Earlier we updated every 1000 frames, now we are doing it for every 500 frames.\n",
    "TARGET_UPDATE_FREQ = 500   \n",
    "\n",
    "GAMMA = 0.99 \n",
    "MEMORY_SIZE = 10000         \n",
    "TRAINING_START = 1000                 \n",
    "EPSILON_DECAY = 0.995       \n",
    "TRAINING_START = 10000      \n",
    "LEARNING_RATE = 0.00025     \n",
    "EPSILON_INIT = 1.0          \n",
    "EPSILON_DECAY = 0.9995      \n",
    "EPSILON_MIN = 0.05    "
   ]
  },
  {
   "cell_type": "code",
   "execution_count": null,
   "id": "_gyUU19lzxzq",
   "metadata": {
    "colab": {
     "base_uri": "https://localhost:8080/",
     "height": 1000
    },
    "id": "_gyUU19lzxzq",
    "outputId": "1b13aa6e-70cd-4aa0-e1a0-6c9bfad55a8b"
   },
   "outputs": [
    {
     "name": "stdout",
     "output_type": "stream",
     "text": [
      "Mounted at /content/drive\n",
      "Environment: PongDeterministic-v4\n",
      "Observation Space: Box(0, 255, (210, 160, 3), uint8)\n",
      "Action Space: Discrete(6)\n",
      "Episode 1/10, Steps: 843, Reward: -21.0, Epsilon: 1.0000\n",
      "Updated target network at frame 1000\n",
      "Updated target network at frame 1500\n",
      "Episode 2/10, Steps: 764, Reward: -21.0, Epsilon: 0.4668\n",
      "Updated target network at frame 2000\n",
      "Episode 3/10, Steps: 764, Reward: -21.0, Epsilon: 0.1792\n",
      "Updated target network at frame 2500\n",
      "Updated target network at frame 3000\n",
      "Episode 4/10, Steps: 882, Reward: -21.0, Epsilon: 0.0592\n",
      "Updated target network at frame 3500\n",
      "Updated target network at frame 4000\n",
      "Episode 5/10, Steps: 764, Reward: -21.0, Epsilon: 0.0500\n",
      "Model saved at episode 5 to /content/drive/MyDrive/pong_dqn_models_batch_16/pong_dqn_episode_5.keras\n",
      "Updated target network at frame 4500\n",
      "Episode 6/10, Steps: 764, Reward: -21.0, Epsilon: 0.0500\n",
      "Updated target network at frame 5000\n",
      "Updated target network at frame 5500\n",
      "Episode 7/10, Steps: 764, Reward: -21.0, Epsilon: 0.0500\n",
      "Updated target network at frame 6000\n",
      "Episode 8/10, Steps: 764, Reward: -21.0, Epsilon: 0.0500\n",
      "Updated target network at frame 6500\n",
      "Updated target network at frame 7000\n",
      "Episode 9/10, Steps: 854, Reward: -21.0, Epsilon: 0.0500\n",
      "Updated target network at frame 7500\n",
      "Episode 10/10, Steps: 792, Reward: -21.0, Epsilon: 0.0500\n",
      "Model saved at episode 10 to /content/drive/MyDrive/pong_dqn_models_batch_16/pong_dqn_episode_10.keras\n",
      "Final model saved to /content/drive/MyDrive/pong_dqn_models_batch_16/pong_dqn_final.keras!\n",
      "Training metrics saved to /content/drive/MyDrive/pong_dqn_models_batch_16/training_metrics.npz\n"
     ]
    },
    {
     "data": {
      "image/png": "[encoded data removed]",
      "text/plain": [
       "<Figure size 1200x500 with 2 Axes>"
      ]
     },
     "metadata": {},
     "output_type": "display_data"
    }
   ],
   "source": [
    "rewards, losses = train_dqn(ENV_NAME, total_episodes=10, render=False, type=\"500_frames\")\n",
    "\n",
    "\"\"\"\n",
    "This code visualizes the training progress by plotting the rewards and losses.\n",
    "\"\"\"\n",
    "# Plot the rewards\n",
    "plt.figure(figsize=(12, 5))\n",
    "plt.subplot(1, 2, 1)\n",
    "plt.plot(rewards)\n",
    "plt.title('Episode Rewards')\n",
    "plt.xlabel('Episode')\n",
    "plt.ylabel('Reward')\n",
    "plt.grid(True)\n",
    "\n",
    "# Adding a moving average to see trends better\n",
    "if len(rewards) > 10:\n",
    "    moving_avg = np.convolve(rewards, np.ones(10)/10, mode='valid')\n",
    "    plt.plot(range(9, len(rewards)), moving_avg, 'r', label='10-episode moving average')\n",
    "    plt.legend()\n",
    "\n",
    "# Plot the losses\n",
    "plt.subplot(1, 2, 2)\n",
    "plt.plot(losses)\n",
    "plt.title('Training Loss')\n",
    "plt.xlabel('Episode')\n",
    "plt.ylabel('Loss')\n",
    "plt.grid(True)\n",
    "\n",
    "plt.tight_layout()\n",
    "plt.savefig('training_results.png')  # Save the figure\n",
    "plt.show()"
   ]
  },
  {
   "cell_type": "code",
   "execution_count": 63,
   "id": "OE3WE0lW1i3h",
   "metadata": {
    "id": "OE3WE0lW1i3h"
   },
   "outputs": [],
   "source": [
    "import gym\n",
    "\n",
    "def evaluate_agent(env_name, model_filename, n_episodes=5, render=True, type=\"batch_8\"):\n",
    "    from google.colab import drive\n",
    "    drive.mount('/content/drive', force_remount=False)  # Don't force remount if already mounted\n",
    "\n",
    "    # Construct path to the model file\n",
    "    model_path = f'/content/drive/MyDrive/pong_dqn_models_{type}/{model_filename}'\n",
    "    print(f\"Loading model from: {model_path}\")\n",
    "    \"\"\"Evaluate a trained DQN agent.\"\"\"\n",
    "    env = gym.make(env_name, render_mode='rgb_array')\n",
    "    n_actions = env.action_space.n\n",
    "\n",
    "    # Load the agent\n",
    "    agent = DQNAgent((IMAGE_SHAPE[0], IMAGE_SHAPE[1], STACK_SIZE), n_actions)\n",
    "    agent.load_model(model_path)\n",
    "    # Use a small epsilon for some exploration during evaluation\n",
    "    agent.epsilon = 0.05\n",
    "\n",
    "    total_rewards = []\n",
    "\n",
    "    for episode in range(n_episodes):\n",
    "        observation, _ = env.reset()\n",
    "        frame_stacker = FrameStacker(IMAGE_SHAPE, STACK_SIZE)\n",
    "        state = frame_stacker.reset(observation)\n",
    "\n",
    "        episode_reward = 0\n",
    "        done = False\n",
    "        step = 0\n",
    "\n",
    "        while not done:\n",
    "            # Select action\n",
    "            action = agent.get_action(state)\n",
    "\n",
    "            # Execute action\n",
    "            next_observation, reward, terminated, truncated, _ = env.step(action)\n",
    "            done = terminated or truncated\n",
    "\n",
    "            # Stack frames for next state\n",
    "            next_state = frame_stacker.add_frame(next_observation)\n",
    "\n",
    "            # Update state and accumulate reward\n",
    "            state = next_state\n",
    "            episode_reward += reward\n",
    "            step += 1\n",
    "\n",
    "            # Render if required\n",
    "            if render:\n",
    "                display.clear_output(wait=True)\n",
    "                plt.imshow(env.render())\n",
    "                plt.axis('off')\n",
    "                display.display(plt.gcf())\n",
    "                plt.clf()\n",
    "\n",
    "        total_rewards.append(episode_reward)\n",
    "        print(f\"Evaluation Episode {episode+1}/{n_episodes}, Steps: {step}, Reward: {episode_reward}\")\n",
    "\n",
    "    # Calculate statistics\n",
    "    avg_reward = np.mean(total_rewards)\n",
    "    std_reward = np.std(total_rewards)\n",
    "\n",
    "    print(f\"Evaluation Results:\")\n",
    "    print(f\"Average Reward: {avg_reward:.2f} ± {std_reward:.2f}\")\n",
    "    print(f\"Min Reward: {np.min(total_rewards)}\")\n",
    "    print(f\"Max Reward: {np.max(total_rewards)}\")\n",
    "\n",
    "    env.close()\n",
    "    return total_rewards"
   ]
  },
  {
   "cell_type": "code",
   "execution_count": null,
   "id": "D_ZpiR-WENCQ",
   "metadata": {
    "colab": {
     "base_uri": "https://localhost:8080/",
     "height": 527
    },
    "id": "D_ZpiR-WENCQ",
    "outputId": "214e6b81-8251-4ed8-fb55-cd63130af63b"
   },
   "outputs": [
    {
     "data": {
      "image/png": "[encoded data removed]",
      "text/plain": [
       "<Figure size 640x480 with 1 Axes>"
      ]
     },
     "metadata": {},
     "output_type": "display_data"
    },
    {
     "name": "stdout",
     "output_type": "stream",
     "text": [
      "Evaluation Episode 5/5, Steps: 764, Reward: -21.0\n",
      "Evaluation Results:\n",
      "Average Reward: -20.80 ± 0.40\n",
      "Min Reward: -21.0\n",
      "Max Reward: -20.0\n",
      "Average Evaluation Reward: -20.8\n"
     ]
    },
    {
     "data": {
      "text/plain": [
       "<Figure size 640x480 with 0 Axes>"
      ]
     },
     "metadata": {},
     "output_type": "display_data"
    }
   ],
   "source": [
    "#Evaluating using saved model after 500 frames update.\n",
    "evaluation_rewards = evaluate_agent(ENV_NAME, \"pong_dqn_final.keras\", n_episodes=5, type=\"500_frames\")\n",
    "print(f\"Average Evaluation Reward: {np.mean(evaluation_rewards)}\")"
   ]
  },
  {
   "cell_type": "markdown",
   "id": "f285f0ca",
   "metadata": {},
   "source": [
    "## **Final Network Architecture Used**\n",
    "\n",
    "The final network architecture used is a Deep Q-Network with the following components:\n",
    "\n",
    "Input layer accepting game frames with the specified input shape\n",
    "Three convolutional layers for feature extraction:\n",
    "\n",
    "First layer: 32 filters of size 8×8 with stride 4 and ReLU activation\n",
    "Second layer: 64 filters of size 4×4 with stride 2 and ReLU activation\n",
    "Third layer: 64 filters of size 3×3 with stride 1 and ReLU activation\n",
    "\n",
    "\n",
    "Flatten layer to convert the 2D feature maps to a 1D vector\n",
    "Fully connected layer with 512 units and ReLU activation\n",
    "Output layer with linear activation producing Q-values for each possible action"
   ]
  },
  {
   "cell_type": "markdown",
   "id": "38cd28a2",
   "metadata": {},
   "source": [
    "## Metrics, Observations, and Parameter Analysis\n",
    "\n",
    "##### **Batch Size 8**\n",
    "\n",
    "- **Episode Rewards**: Shows significant fluctuations with peaks at episodes 4 and 9\n",
    "- **Training Loss** : Quickly rises to ~0.005 and then stabilizes\n",
    "- Average Evaluation Reward: -20.8\n",
    "> The agent shows some learning, with occasional improvement in performance. \n",
    "\n",
    "##### **Batch Size 16**\n",
    "\n",
    "- **Episode Rewards** : Consistently flat at -21.0 with no improvement\n",
    "- **Training Loss** : Peak around 0.008 (higher than batch 8) and gradually decreases\n",
    "- **Average Evaluation Reward** : -21.0\n",
    "> The constant decrease in loss is promising but batch 8 performs better.\n",
    "\n",
    "\n",
    "##### **Batch Size 16 with Higher Update Frequency (Lower update Window)**\n",
    "\n",
    "- **Episode Rewards** : Oscillating pattern with higher variance and peak around -19.0\n",
    "- **Loss** : Starts higher (~0.0075) and consistently decreases throughout training\n",
    "- **Average Evaluation Reward** : -20.8\n",
    "> Shows more exploration and potential learning than the 1000 frames update variant\n",
    "\n",
    "\n",
    "\n",
    "#### **Impact of Parameters:**\n",
    "\n",
    "##### **Batch Size Impact:**\n",
    "- Larger batch size (16) produces higher initial loss values than smaller batch size (8)\n",
    "- Batch size 8 shows better exploration and peak performance, reaching -19.0 reward\n",
    "- Batch size 16 with 1000-frame updates shows no exploration or improvement in gameplay\n",
    "> So lower batch sizes can be a better choice for training.\n",
    "\n",
    "\n",
    "##### **Target Network Update Frequency Impact:**\n",
    "- Increasing update frequency ( Lowering Update Window ) with batch size 16 significantly improves exploration\n",
    "- More frequent updates (500 frames) produce a steadier, more consistent loss reduction\n",
    "- More frequent updates lead to a sawtooth pattern in rewards, suggesting better exploration-exploitation balance\n",
    "> So lowering the target update window is more beneficial"
   ]
  },
  {
   "cell_type": "markdown",
   "id": "b9397798",
   "metadata": {},
   "source": [
    "## **Final Section**\n",
    "- Trying 100 episodes with updates every 3 episodes with batch size of 8\n",
    "\n",
    "> Google Colab was getting disconnected approximately every 1 hour or so, therefore couldn't complete the training for more than 12~20 episodes. Below is the code to run 100 episodes with the above parameters."
   ]
  },
  {
   "cell_type": "code",
   "execution_count": null,
   "id": "233dbf8a",
   "metadata": {},
   "outputs": [],
   "source": [
    "def train_dqn(env_name, total_episodes=20, render=True, type=\"batch_8\"):\n",
    "    from google.colab import drive\n",
    "    drive.mount('/content/drive', force_remount=True)\n",
    "\n",
    "    import os\n",
    "    save_path = '/content/drive/MyDrive/pong_dqn_models_' + type\n",
    "    os.makedirs(save_path, exist_ok=True)\n",
    "\n",
    "    env = gym.make(env_name, render_mode='rgb_array')\n",
    "    n_actions = env.action_space.n\n",
    "\n",
    "    print(f\"Environment: {env_name}\")\n",
    "    print(f\"Observation Space: {env.observation_space}\")\n",
    "    print(f\"Action Space: {env.action_space}\")\n",
    "\n",
    "    # Initialize the agent\n",
    "    agent = DQNAgent((IMAGE_SHAPE[0], IMAGE_SHAPE[1], STACK_SIZE), n_actions)\n",
    "\n",
    "    episode_rewards = []\n",
    "    episode_losses = []\n",
    "\n",
    "    # Import numpy here, inside the function's scope\n",
    "    import numpy as np\n",
    "\n",
    "    for episode in range(total_episodes):\n",
    "        # Reset environment and get initial state (old gym API)\n",
    "        observation, _ = env.reset()\n",
    "        frame_stacker = FrameStacker(IMAGE_SHAPE, STACK_SIZE)\n",
    "        state = frame_stacker.reset(observation)\n",
    "\n",
    "        episode_reward = 0\n",
    "        episode_loss = []\n",
    "        done = False\n",
    "        step = 0\n",
    "\n",
    "        # Run one episode\n",
    "        while not done:\n",
    "            # Select action using epsilon-greedy policy\n",
    "            action = agent.get_action(state)\n",
    "\n",
    "            # Execute action in the environment\n",
    "            next_observation, reward, terminated, truncated, _ = env.step(action)\n",
    "            done = terminated or truncated\n",
    "\n",
    "            # Process reward (clip to -1, 0, 1 as per standard DQN implementation)\n",
    "            processed_reward = transform_reward(reward)\n",
    "\n",
    "            # Stack frames for next state\n",
    "            next_state = frame_stacker.add_frame(next_observation)\n",
    "\n",
    "            # Store transition in replay buffer\n",
    "            agent.store_transition(state, action, processed_reward, next_state, done)\n",
    "\n",
    "            # Train agent\n",
    "            loss = agent.train()\n",
    "            if loss != 0:\n",
    "                episode_loss.append(loss)\n",
    "\n",
    "            # Update state and accumulate reward\n",
    "            state = next_state\n",
    "            episode_reward += reward\n",
    "            step += 1\n",
    "\n",
    "            # Render if required (every 10 episodes to avoid slowing down training)\n",
    "            if render and episode % 10 == 0:\n",
    "                display.clear_output(wait=True)\n",
    "                plt.imshow(env.render())\n",
    "                plt.axis('off')\n",
    "                display.display(plt.gcf())\n",
    "                plt.clf()\n",
    "\n",
    "        # Update target network according to update frequency\n",
    "        agent.episode_count += 1\n",
    "        if agent.episode_count % TARGET_UPDATE_FREQ == 0:\n",
    "            agent.update_target()\n",
    "            print(f\"Updated target network at episode {agent.episode_count}\")\n",
    "\n",
    "        # Record metrics\n",
    "        episode_rewards.append(episode_reward)\n",
    "        if episode_loss:\n",
    "            episode_losses.append(np.mean(episode_loss))\n",
    "        else:\n",
    "            episode_losses.append(0)\n",
    "\n",
    "        # Print progress\n",
    "        print(f\"Episode {episode+1}/{total_episodes}, Steps: {step}, Reward: {episode_reward}, Epsilon: {agent.epsilon:.4f}\")\n",
    "\n",
    "        # Save model every 3 episodes to Google Drive\n",
    "        if (episode + 1) % 10 == 0:\n",
    "            model_path = os.path.join(save_path, f\"pong_dqn_episode_{episode+1}.keras\")\n",
    "            agent.save_model(model_path)\n",
    "            print(f\"Model saved at episode {episode+1} to {model_path}\")\n",
    "\n",
    "    # Save final model to Google Drive\n",
    "    final_model_path = os.path.join(save_path, \"pong_dqn_final.keras\")\n",
    "    agent.save_model(final_model_path)\n",
    "    print(f\"Final model saved to {final_model_path}!\")\n",
    "\n",
    "    # Also save the training metrics to Google Drive\n",
    "    import numpy as np\n",
    "    metrics_path = os.path.join(save_path, \"training_metrics.npz\")\n",
    "    np.savez(metrics_path, rewards=episode_rewards, losses=episode_losses)\n",
    "    print(f\"Training metrics saved to {metrics_path}\")\n",
    "\n",
    "    env.close()\n",
    "\n",
    "    return episode_rewards, episode_losses"
   ]
  },
  {
   "cell_type": "code",
   "execution_count": null,
   "id": "c46091d4",
   "metadata": {},
   "outputs": [],
   "source": [
    "#Using Deterministic version of Pong\n",
    "ENV_NAME = 'PongDeterministic-v4'\n",
    "#Had to update the image size to (84,80) since encountered a shape mismatch error\n",
    "IMAGE_SHAPE = (84, 80)  \n",
    "#Stacking 4 frames together to reduce the training time.\n",
    "STACK_SIZE = 4          \n",
    "\n",
    "#Initial training will be run on batch size of 8, will run another round of training for 16 as well.\n",
    "BATCH_SIZE = 8            \n",
    "\n",
    "\n",
    "#Important Change is here. updates every 3 frames\n",
    "TARGET_UPDATE_FREQ = 3   \n",
    "\n",
    "GAMMA = 0.99 \n",
    "MEMORY_SIZE = 10000         \n",
    "TRAINING_START = 1000                 \n",
    "EPSILON_DECAY = 0.9995       \n",
    "TRAINING_START = 10000      \n",
    "LEARNING_RATE = 0.00025     \n",
    "EPSILON_INIT = 1.0          \n",
    "EPSILON_DECAY = 0.9995      \n",
    "EPSILON_MIN = 0.05    "
   ]
  },
  {
   "cell_type": "markdown",
   "id": "6e51613a",
   "metadata": {},
   "source": []
  }
 ],
 "metadata": {
  "accelerator": "GPU",
  "colab": {
   "gpuType": "T4",
   "provenance": []
  },
  "kernelspec": {
   "display_name": "Python 3",
   "name": "python3"
  },
  "language_info": {
   "codemirror_mode": {
    "name": "ipython",
    "version": 2
   },
   "file_extension": ".py",
   "mimetype": "text/x-python",
   "name": "python",
   "nbconvert_exporter": "python",
   "pygments_lexer": "ipython2",
   "version": "2.7.6"
  }
 },
 "nbformat": 4,
 "nbformat_minor": 5
}
