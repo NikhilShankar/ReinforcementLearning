{
  "cells": [
    {
      "cell_type": "markdown",
      "id": "1fc6d48172b72be0",
      "metadata": {
        "id": "1fc6d48172b72be0"
      },
      "source": [
        "#### **Assignment-3 Reinforcement learning programming**\n",
        "Submitted by : Nikhil Shankar Chirakkal Sivasankaran\n",
        "9026254"
      ]
    },
    {
      "cell_type": "markdown",
      "id": "82856fdacd0ff16b",
      "metadata": {
        "id": "82856fdacd0ff16b"
      },
      "source": [
        "## Setup and Dependencies"
      ]
    },
    {
      "cell_type": "code",
      "execution_count": 40,
      "id": "779ec60f55db8f51",
      "metadata": {
        "colab": {
          "base_uri": "https://localhost:8080/"
        },
        "id": "779ec60f55db8f51",
        "outputId": "cf4acd4d-d21d-4c5b-a525-8c653fd77a24"
      },
      "outputs": [
        {
          "name": "stdout",
          "output_type": "stream",
          "text": [
            "Requirement already satisfied: numpy==1.26.0 in /usr/local/lib/python3.11/dist-packages (1.26.0)\n",
            "Requirement already satisfied: tensorflow in /usr/local/lib/python3.11/dist-packages (2.18.0)\n",
            "Requirement already satisfied: absl-py>=1.0.0 in /usr/local/lib/python3.11/dist-packages (from tensorflow) (1.4.0)\n",
            "Requirement already satisfied: astunparse>=1.6.0 in /usr/local/lib/python3.11/dist-packages (from tensorflow) (1.6.3)\n",
            "Requirement already satisfied: flatbuffers>=24.3.25 in /usr/local/lib/python3.11/dist-packages (from tensorflow) (25.2.10)\n",
            "Requirement already satisfied: gast!=0.5.0,!=0.5.1,!=0.5.2,>=0.2.1 in /usr/local/lib/python3.11/dist-packages (from tensorflow) (0.6.0)\n",
            "Requirement already satisfied: google-pasta>=0.1.1 in /usr/local/lib/python3.11/dist-packages (from tensorflow) (0.2.0)\n",
            "Requirement already satisfied: libclang>=13.0.0 in /usr/local/lib/python3.11/dist-packages (from tensorflow) (18.1.1)\n",
            "Requirement already satisfied: opt-einsum>=2.3.2 in /usr/local/lib/python3.11/dist-packages (from tensorflow) (3.4.0)\n",
            "Requirement already satisfied: packaging in /usr/local/lib/python3.11/dist-packages (from tensorflow) (24.2)\n",
            "Requirement already satisfied: protobuf!=4.21.0,!=4.21.1,!=4.21.2,!=4.21.3,!=4.21.4,!=4.21.5,<6.0.0dev,>=3.20.3 in /usr/local/lib/python3.11/dist-packages (from tensorflow) (5.29.3)\n",
            "Requirement already satisfied: requests<3,>=2.21.0 in /usr/local/lib/python3.11/dist-packages (from tensorflow) (2.32.3)\n",
            "Requirement already satisfied: setuptools in /usr/local/lib/python3.11/dist-packages (from tensorflow) (75.1.0)\n",
            "Requirement already satisfied: six>=1.12.0 in /usr/local/lib/python3.11/dist-packages (from tensorflow) (1.17.0)\n",
            "Requirement already satisfied: termcolor>=1.1.0 in /usr/local/lib/python3.11/dist-packages (from tensorflow) (2.5.0)\n",
            "Requirement already satisfied: typing-extensions>=3.6.6 in /usr/local/lib/python3.11/dist-packages (from tensorflow) (4.12.2)\n",
            "Requirement already satisfied: wrapt>=1.11.0 in /usr/local/lib/python3.11/dist-packages (from tensorflow) (1.17.2)\n",
            "Requirement already satisfied: grpcio<2.0,>=1.24.3 in /usr/local/lib/python3.11/dist-packages (from tensorflow) (1.71.0)\n",
            "Requirement already satisfied: tensorboard<2.19,>=2.18 in /usr/local/lib/python3.11/dist-packages (from tensorflow) (2.18.0)\n",
            "Requirement already satisfied: keras>=3.5.0 in /usr/local/lib/python3.11/dist-packages (from tensorflow) (3.8.0)\n",
            "Requirement already satisfied: numpy<2.1.0,>=1.26.0 in /usr/local/lib/python3.11/dist-packages (from tensorflow) (1.26.0)\n",
            "Requirement already satisfied: h5py>=3.11.0 in /usr/local/lib/python3.11/dist-packages (from tensorflow) (3.13.0)\n",
            "Requirement already satisfied: ml-dtypes<0.5.0,>=0.4.0 in /usr/local/lib/python3.11/dist-packages (from tensorflow) (0.4.1)\n",
            "Requirement already satisfied: tensorflow-io-gcs-filesystem>=0.23.1 in /usr/local/lib/python3.11/dist-packages (from tensorflow) (0.37.1)\n",
            "Requirement already satisfied: wheel<1.0,>=0.23.0 in /usr/local/lib/python3.11/dist-packages (from astunparse>=1.6.0->tensorflow) (0.45.1)\n",
            "Requirement already satisfied: rich in /usr/local/lib/python3.11/dist-packages (from keras>=3.5.0->tensorflow) (13.9.4)\n",
            "Requirement already satisfied: namex in /usr/local/lib/python3.11/dist-packages (from keras>=3.5.0->tensorflow) (0.0.8)\n",
            "Requirement already satisfied: optree in /usr/local/lib/python3.11/dist-packages (from keras>=3.5.0->tensorflow) (0.14.1)\n",
            "Requirement already satisfied: charset-normalizer<4,>=2 in /usr/local/lib/python3.11/dist-packages (from requests<3,>=2.21.0->tensorflow) (3.4.1)\n",
            "Requirement already satisfied: idna<4,>=2.5 in /usr/local/lib/python3.11/dist-packages (from requests<3,>=2.21.0->tensorflow) (3.10)\n",
            "Requirement already satisfied: urllib3<3,>=1.21.1 in /usr/local/lib/python3.11/dist-packages (from requests<3,>=2.21.0->tensorflow) (2.3.0)\n",
            "Requirement already satisfied: certifi>=2017.4.17 in /usr/local/lib/python3.11/dist-packages (from requests<3,>=2.21.0->tensorflow) (2025.1.31)\n",
            "Requirement already satisfied: markdown>=2.6.8 in /usr/local/lib/python3.11/dist-packages (from tensorboard<2.19,>=2.18->tensorflow) (3.7)\n",
            "Requirement already satisfied: tensorboard-data-server<0.8.0,>=0.7.0 in /usr/local/lib/python3.11/dist-packages (from tensorboard<2.19,>=2.18->tensorflow) (0.7.2)\n",
            "Requirement already satisfied: werkzeug>=1.0.1 in /usr/local/lib/python3.11/dist-packages (from tensorboard<2.19,>=2.18->tensorflow) (3.1.3)\n",
            "Requirement already satisfied: MarkupSafe>=2.1.1 in /usr/local/lib/python3.11/dist-packages (from werkzeug>=1.0.1->tensorboard<2.19,>=2.18->tensorflow) (3.0.2)\n",
            "Requirement already satisfied: markdown-it-py>=2.2.0 in /usr/local/lib/python3.11/dist-packages (from rich->keras>=3.5.0->tensorflow) (3.0.0)\n",
            "Requirement already satisfied: pygments<3.0.0,>=2.13.0 in /usr/local/lib/python3.11/dist-packages (from rich->keras>=3.5.0->tensorflow) (2.18.0)\n",
            "Requirement already satisfied: mdurl~=0.1 in /usr/local/lib/python3.11/dist-packages (from markdown-it-py>=2.2.0->rich->keras>=3.5.0->tensorflow) (0.1.2)\n",
            "Requirement already satisfied: gym in /usr/local/lib/python3.11/dist-packages (0.26.2)\n",
            "Requirement already satisfied: numpy>=1.18.0 in /usr/local/lib/python3.11/dist-packages (from gym) (1.26.0)\n",
            "Requirement already satisfied: cloudpickle>=1.2.0 in /usr/local/lib/python3.11/dist-packages (from gym) (3.1.1)\n",
            "Requirement already satisfied: gym_notices>=0.0.4 in /usr/local/lib/python3.11/dist-packages (from gym) (0.0.8)\n",
            "Requirement already satisfied: gym[atari] in /usr/local/lib/python3.11/dist-packages (0.26.2)\n",
            "Requirement already satisfied: numpy>=1.18.0 in /usr/local/lib/python3.11/dist-packages (from gym[atari]) (1.26.0)\n",
            "Requirement already satisfied: cloudpickle>=1.2.0 in /usr/local/lib/python3.11/dist-packages (from gym[atari]) (3.1.1)\n",
            "Requirement already satisfied: gym_notices>=0.0.4 in /usr/local/lib/python3.11/dist-packages (from gym[atari]) (0.0.8)\n",
            "Requirement already satisfied: ale-py~=0.8.0 in /usr/local/lib/python3.11/dist-packages (from gym[atari]) (0.8.1)\n",
            "Requirement already satisfied: importlib-resources in /usr/local/lib/python3.11/dist-packages (from ale-py~=0.8.0->gym[atari]) (6.5.2)\n",
            "Requirement already satisfied: opencv-python in /usr/local/lib/python3.11/dist-packages (4.11.0.86)\n",
            "Requirement already satisfied: numpy>=1.21.2 in /usr/local/lib/python3.11/dist-packages (from opencv-python) (1.26.0)\n",
            "Requirement already satisfied: autorom in /usr/local/lib/python3.11/dist-packages (0.6.1)\n",
            "Requirement already satisfied: click in /usr/local/lib/python3.11/dist-packages (from autorom) (8.1.8)\n",
            "Requirement already satisfied: requests in /usr/local/lib/python3.11/dist-packages (from autorom) (2.32.3)\n",
            "Requirement already satisfied: charset-normalizer<4,>=2 in /usr/local/lib/python3.11/dist-packages (from requests->autorom) (3.4.1)\n",
            "Requirement already satisfied: idna<4,>=2.5 in /usr/local/lib/python3.11/dist-packages (from requests->autorom) (3.10)\n",
            "Requirement already satisfied: urllib3<3,>=1.21.1 in /usr/local/lib/python3.11/dist-packages (from requests->autorom) (2.3.0)\n",
            "Requirement already satisfied: certifi>=2017.4.17 in /usr/local/lib/python3.11/dist-packages (from requests->autorom) (2025.1.31)\n",
            "Requirement already satisfied: autorom[accept-rom-license] in /usr/local/lib/python3.11/dist-packages (0.6.1)\n",
            "Requirement already satisfied: click in /usr/local/lib/python3.11/dist-packages (from autorom[accept-rom-license]) (8.1.8)\n",
            "Requirement already satisfied: requests in /usr/local/lib/python3.11/dist-packages (from autorom[accept-rom-license]) (2.32.3)\n",
            "Requirement already satisfied: AutoROM.accept-rom-license in /usr/local/lib/python3.11/dist-packages (from autorom[accept-rom-license]) (0.6.1)\n",
            "Requirement already satisfied: charset-normalizer<4,>=2 in /usr/local/lib/python3.11/dist-packages (from requests->autorom[accept-rom-license]) (3.4.1)\n",
            "Requirement already satisfied: idna<4,>=2.5 in /usr/local/lib/python3.11/dist-packages (from requests->autorom[accept-rom-license]) (3.10)\n",
            "Requirement already satisfied: urllib3<3,>=1.21.1 in /usr/local/lib/python3.11/dist-packages (from requests->autorom[accept-rom-license]) (2.3.0)\n",
            "Requirement already satisfied: certifi>=2017.4.17 in /usr/local/lib/python3.11/dist-packages (from requests->autorom[accept-rom-license]) (2025.1.31)\n"
          ]
        }
      ],
      "source": [
        "import os\n",
        "import random\n",
        "import matplotlib.pyplot as plt\n",
        "from collections import deque\n",
        "from IPython import display\n",
        "import gym\n",
        "\n",
        "# For dependencies installation - with specific versions to avoid conflicts\n",
        "!pip install numpy==1.26.0 # Use compatible numpy version\n",
        "!pip install tensorflow\n",
        "!pip install gym  # Using older gym version instead of gymnasium\n",
        "!pip install gym[atari]\n",
        "!pip install opencv-python\n",
        "!pip install autorom\n",
        "!pip install autorom[accept-rom-license]\n",
        "\n",
        "import numpy as np\n",
        "import gym  # Using older gym instead of gymnasium\n",
        "import tensorflow as tf\n",
        "from tensorflow.keras.models import Sequential\n",
        "from tensorflow.keras.layers import Conv2D, Flatten, Dense\n",
        "from tensorflow.keras.optimizers import Adam"
      ]
    },
    {
      "cell_type": "markdown",
      "id": "fd72ef2460a2b80",
      "metadata": {
        "id": "fd72ef2460a2b80"
      },
      "source": [
        "##### **Utils File**"
      ]
    },
    {
      "cell_type": "code",
      "execution_count": 41,
      "id": "1ef9c0602983b2a9",
      "metadata": {
        "id": "1ef9c0602983b2a9"
      },
      "outputs": [],
      "source": [
        "import numpy as np\n",
        "\n",
        "# This is specific to the pong environment\n",
        "def img_crop(img):\n",
        "    return img[30:-12,:,:]\n",
        "\n",
        "# GENERAL Atari preprocessing steps\n",
        "def downsample(img):\n",
        "    # We will take only half of the image resolution\n",
        "    return img[::2, ::2]\n",
        "\n",
        "def transform_reward(reward):\n",
        "    return np.sign(reward)\n",
        "\n",
        "def to_grayscale(img):\n",
        "    return np.mean(img, axis=2).astype(np.uint8)\n",
        "\n",
        "# Normalize grayscale image from -1 to 1.\n",
        "def normalize_grayscale(img):\n",
        "    return (img - 128) / 128 - 1\n",
        "\n",
        "def process_frame(img, image_shape):\n",
        "    img = img_crop(img)\n",
        "    img = downsample(img)    # Crop and downsize (by 2)\n",
        "    img = to_grayscale(img)       # Convert to greyscale by averaging the RGB values\n",
        "    img = normalize_grayscale(img)  # Normalize from -1 to 1.\n",
        "\n",
        "    return np.expand_dims(img.reshape(image_shape[0], image_shape[1], 1), axis=0)"
      ]
    },
    {
      "cell_type": "markdown",
      "id": "80bc723ed8f825e8",
      "metadata": {
        "id": "80bc723ed8f825e8"
      },
      "source": [
        "#### **Environment Hyperparameters**"
      ]
    },
    {
      "cell_type": "code",
      "execution_count": 42,
      "id": "df9bebd286e34a7e",
      "metadata": {
        "colab": {
          "base_uri": "https://localhost:8080/"
        },
        "id": "df9bebd286e34a7e",
        "outputId": "cf8214bf-83d6-4f5a-f84b-acbd334e1a7f"
      },
      "outputs": [
        {
          "name": "stdout",
          "output_type": "stream",
          "text": [
            "Using environment: PongDeterministic-v4\n"
          ]
        }
      ],
      "source": [
        "ENV_NAME = 'PongDeterministic-v4'\n",
        "print(\"Using environment:\", ENV_NAME)\n",
        "\n",
        "# Image processing parameters\n",
        "IMAGE_SHAPE = (84, 80)  # Standard image size for Atari games\n",
        "STACK_SIZE = 4          # Number of frames to stack to capture motion\n",
        "\n",
        "# Hyperparameters as specified in the assignment\n",
        "# Update these hyperparameters\n",
        "BATCH_SIZE = 8            # Increase from 8 to at least 32\n",
        "TARGET_UPDATE_FREQ = 1000    # Update based on frames, not episodes\n",
        "GAMMA = 0.99                 # Increase discount factor\n",
        "EPSILON_DECAY = 0.995       # Much slower decay\n",
        "TRAINING_START = 10000       # Start training after collecting more experiences\n",
        "LEARNING_RATE = 0.00025      # Slightly higher learning rate         # Minimum exploration rate ε_min\n",
        "EPSILON_INIT = 1.0           # Initial exploration rate ε\n",
        "EPSILON_DECAY = 0.9995       # Much slower decay rate\n",
        "EPSILON_MIN = 0.05           # Minimum exploration rate ε_min\n",
        "# Additional hyperparameters (not explicitly specified in assignment)\n",
        "MEMORY_SIZE = 10000         # Replay buffer size\n",
        "TRAINING_START = 1000       # Start training after collecting this many frames\n"
      ]
    },
    {
      "cell_type": "markdown",
      "id": "a2fc9a60d57e49f0",
      "metadata": {
        "id": "a2fc9a60d57e49f0"
      },
      "source": [
        "#### **Experience Replay Buffer**\n",
        "(state, action, reward, next_state, done)\n"
      ]
    },
    {
      "cell_type": "code",
      "execution_count": 43,
      "id": "initial_id",
      "metadata": {
        "collapsed": true,
        "id": "initial_id"
      },
      "outputs": [],
      "source": [
        "class ReplayBuffer:\n",
        "    def __init__(self, capacity):\n",
        "        self.buffer = deque(maxlen=capacity)\n",
        "\n",
        "    def add(self, state, action, reward, next_state, done):\n",
        "        \"\"\"Add a new experience to the buffer\"\"\"\n",
        "        self.buffer.append((state, action, reward, next_state, done))\n",
        "\n",
        "    def sample(self, batch_size):\n",
        "        \"\"\"Randomly sample a batch of experiences from the buffer\"\"\"\n",
        "        samples = random.sample(self.buffer, batch_size)\n",
        "        states, actions, rewards, next_states, dones = map(np.array, zip(*samples))\n",
        "        return states, actions, rewards, next_states, dones\n",
        "\n",
        "    def size(self):\n",
        "        \"\"\"Return the current size of the buffer\"\"\"\n",
        "        return len(self.buffer)"
      ]
    },
    {
      "cell_type": "markdown",
      "id": "a4398cb9131fe11c",
      "metadata": {
        "id": "a4398cb9131fe11c"
      },
      "source": [
        "#### **Deep Q-Network Architecture**\n",
        "Input : Convolutional layers\n",
        "Output : Q-Values"
      ]
    },
    {
      "cell_type": "code",
      "execution_count": 44,
      "id": "eec2ebf30babc361",
      "metadata": {
        "id": "eec2ebf30babc361"
      },
      "outputs": [],
      "source": [
        "def build_dqn(input_shape, n_actions):\n",
        "    model = Sequential([\n",
        "        # Convolutional layers to process the game frames\n",
        "        Conv2D(32, 8, strides=4, activation='relu', input_shape=input_shape),\n",
        "        Conv2D(64, 4, strides=2, activation='relu'),\n",
        "        Conv2D(64, 3, strides=1, activation='relu'),\n",
        "        Flatten(),\n",
        "        # Fully connected layers for Q-value prediction\n",
        "        Dense(512, activation='relu'),\n",
        "        Dense(n_actions, activation='linear')  # Linear activation for Q-values\n",
        "    ])\n",
        "    model.compile(optimizer=Adam(learning_rate=LEARNING_RATE), loss='mse')\n",
        "    return model"
      ]
    },
    {
      "cell_type": "markdown",
      "id": "900427551a64991a",
      "metadata": {
        "id": "900427551a64991a"
      },
      "source": [
        "#### **DQN-Agent**"
      ]
    },
    {
      "cell_type": "code",
      "execution_count": 45,
      "id": "204db4691d2c9834",
      "metadata": {
        "id": "204db4691d2c9834"
      },
      "outputs": [],
      "source": [
        "class DQNAgent:\n",
        "    def __init__(self, state_shape, n_actions):\n",
        "        self.state_shape = state_shape\n",
        "        self.n_actions = n_actions\n",
        "        self.epsilon = EPSILON_INIT\n",
        "\n",
        "        # Create main and target networks\n",
        "        self.model = build_dqn(state_shape, n_actions)        # Online network\n",
        "        self.target_model = build_dqn(state_shape, n_actions) # Target network\n",
        "        self.update_target()  # Initialize target network\n",
        "\n",
        "        # Initialize replay buffer\n",
        "        self.memory = ReplayBuffer(MEMORY_SIZE)\n",
        "\n",
        "        # Initialize trackers\n",
        "        self.frame_count = 0\n",
        "        self.episode_count = 0\n",
        "\n",
        "    def update_target(self):\n",
        "        \"\"\"Copy weights from the online network to the target network\"\"\"\n",
        "        self.target_model.set_weights(self.model.get_weights())\n",
        "\n",
        "    def get_action(self, state):\n",
        "        \"\"\"Select an action using an epsilon-greedy policy\"\"\"\n",
        "        # Exploration: random action\n",
        "        if np.random.rand() < self.epsilon:\n",
        "            return random.randrange(self.n_actions)\n",
        "\n",
        "        # Exploitation: best action according to Q-values\n",
        "        q_values = self.model.predict(state, verbose=0)\n",
        "        return np.argmax(q_values[0])\n",
        "\n",
        "    # def train(self):\n",
        "    #   \"\"\"Train the agent using a random batch from the replay buffer\"\"\"\n",
        "    #   # Update epsilon based on frames, not per batch\n",
        "    #   if self.frame_count % 4 == 0 and self.epsilon > EPSILON_MIN:  # Update every 4 frames\n",
        "    #       self.epsilon = max(EPSILON_MIN, self.epsilon * EPSILON_DECAY)\n",
        "\n",
        "    #   self.frame_count += 1\n",
        "    #   if self.memory.size() < TRAINING_START:\n",
        "    #       return 0  # Not enough samples for training\n",
        "\n",
        "    #   # Sample a random batch from the replay buffer\n",
        "    #   states, actions, rewards, next_states, dones = self.memory.sample(BATCH_SIZE)\n",
        "\n",
        "    #   # Reshape states and next_states to remove the extra dimension\n",
        "    #   states = states.reshape(BATCH_SIZE, self.state_shape[0], self.state_shape[1], self.state_shape[2])\n",
        "    #   next_states = next_states.reshape(BATCH_SIZE, self.state_shape[0], self.state_shape[1], self.state_shape[2])\n",
        "\n",
        "    #   # Calculate target Q-values using the target network\n",
        "    #   next_q_values = self.target_model.predict(next_states, verbose=0)\n",
        "    #   max_next_q = np.max(next_q_values, axis=1)\n",
        "\n",
        "    #   # Calculate the TD target: r + γ * max_a Q'(s', a)\n",
        "    #   targets = rewards + (1 - dones) * GAMMA * max_next_q\n",
        "\n",
        "    #   # Update Q-values only for the actions that were taken\n",
        "    #   current_q = self.model.predict(states, verbose=0)\n",
        "    #   batch_indices = np.arange(BATCH_SIZE)\n",
        "    #   current_q[batch_indices, actions] = targets\n",
        "\n",
        "    #   # Train the online network\n",
        "    #   loss = self.model.train_on_batch(states, current_q)\n",
        "\n",
        "    #   # Update epsilon according to the decay schedule\n",
        "    #   if self.epsilon > EPSILON_MIN:\n",
        "    #       self.epsilon *= EPSILON_DECAY\n",
        "\n",
        "    #   return loss\n",
        "\n",
        "    def train(self):\n",
        "      \"\"\"Train the agent using a random batch from the replay buffer\"\"\"\n",
        "      if self.memory.size() < TRAINING_START:\n",
        "          self.frame_count += 1\n",
        "          return 0  # Not enough samples for training\n",
        "\n",
        "      # Sample a random batch from the replay buffer\n",
        "      states, actions, rewards, next_states, dones = self.memory.sample(BATCH_SIZE)\n",
        "\n",
        "      # Reshape states and next_states to remove the extra dimension\n",
        "      states = states.reshape(BATCH_SIZE, self.state_shape[0], self.state_shape[1], self.state_shape[2])\n",
        "      next_states = next_states.reshape(BATCH_SIZE, self.state_shape[0], self.state_shape[1], self.state_shape[2])\n",
        "\n",
        "      # Calculate target Q-values using the target network\n",
        "      next_q_values = self.target_model.predict(next_states, verbose=0)\n",
        "\n",
        "      # Use Double DQN approach to reduce overestimation\n",
        "      next_actions = np.argmax(self.model.predict(next_states, verbose=0), axis=1)\n",
        "      max_next_q = next_q_values[np.arange(BATCH_SIZE), next_actions]\n",
        "\n",
        "      # Calculate the TD target: r + γ * max_a Q'(s', a)\n",
        "      targets = rewards + (1 - dones) * GAMMA * max_next_q\n",
        "\n",
        "      # Update Q-values only for the actions that were taken\n",
        "      current_q = self.model.predict(states, verbose=0)\n",
        "      batch_indices = np.arange(BATCH_SIZE)\n",
        "      current_q[batch_indices, actions] = targets\n",
        "\n",
        "      # Train the online network\n",
        "      loss = self.model.train_on_batch(states, current_q)\n",
        "\n",
        "      # Update epsilon according to the frame-based decay schedule\n",
        "      if self.frame_count % 4 == 0 and self.epsilon > EPSILON_MIN:  # Update every 4 frames\n",
        "          self.epsilon = max(EPSILON_MIN, self.epsilon * EPSILON_DECAY)\n",
        "\n",
        "      # Check if it's time to update the target network\n",
        "      if self.frame_count % TARGET_UPDATE_FREQ == 0:\n",
        "          self.update_target()\n",
        "          print(f\"Updated target network at frame {self.frame_count}\")\n",
        "\n",
        "      self.frame_count += 1\n",
        "      return loss\n",
        "\n",
        "    def store_transition(self, state, action, reward, next_state, done):\n",
        "        \"\"\"Store a transition in the replay buffer\"\"\"\n",
        "        self.memory.add(state, action, reward, next_state, done)\n",
        "\n",
        "    def save_model(self, filepath):\n",
        "        \"\"\"Save the trained model to disk\"\"\"\n",
        "        self.model.save(filepath)\n",
        "\n",
        "    def load_model(self, filepath):\n",
        "        \"\"\"Load a pre-trained model from disk\"\"\"\n",
        "        self.model = tf.keras.models.load_model(filepath)\n",
        "        self.update_target()"
      ]
    },
    {
      "cell_type": "markdown",
      "id": "d02014e9f5a1cdf6",
      "metadata": {
        "id": "d02014e9f5a1cdf6"
      },
      "source": [
        "#### **Frame Processing**\n",
        "- To reduce processing time we combine multiple frames."
      ]
    },
    {
      "cell_type": "code",
      "execution_count": 46,
      "id": "b1acf47fbbb11d43",
      "metadata": {
        "id": "b1acf47fbbb11d43"
      },
      "outputs": [],
      "source": [
        "class FrameStacker:\n",
        "    def __init__(self, image_shape, stack_size):\n",
        "        self.image_shape = image_shape\n",
        "        self.stack_size = stack_size\n",
        "        # Initialize frame buffer with zeros\n",
        "        self.frames = np.zeros((1, image_shape[0], image_shape[1], stack_size))\n",
        "\n",
        "    def reset(self, frame):\n",
        "        \"\"\"Reset the frame stack with an initial frame\"\"\"\n",
        "        processed_frame = process_frame(frame, self.image_shape)\n",
        "        # Fill all stack positions with the initial frame\n",
        "        for i in range(self.stack_size):\n",
        "            self.frames[0, :, :, i] = processed_frame[0, :, :, 0]\n",
        "        return self.frames\n",
        "\n",
        "    def add_frame(self, frame):\n",
        "        \"\"\"Process a new frame and add it to the stack\"\"\"\n",
        "        processed_frame = process_frame(frame, self.image_shape)\n",
        "        # Move frames to the left and add new frame to the right\n",
        "        self.frames[0, :, :, :-1] = self.frames[0, :, :, 1:]\n",
        "        self.frames[0, :, :, -1] = processed_frame[0, :, :, 0]\n",
        "        # Remove the extra dimension here before returning\n",
        "        #return self.frames.squeeze(axis=1) # This line is removed\n",
        "        return self.frames # Instead, return self.frames directly\n"
      ]
    },
    {
      "cell_type": "markdown",
      "id": "90438b60a9c280ad",
      "metadata": {
        "id": "90438b60a9c280ad"
      },
      "source": [
        "#### **Model Training**"
      ]
    },
    {
      "cell_type": "code",
      "execution_count": 47,
      "id": "2724c3f41c83006",
      "metadata": {
        "id": "2724c3f41c83006"
      },
      "outputs": [],
      "source": [
        "def train_dqn(env_name, total_episodes=20, render=True, type=\"batch_8\"):\n",
        "    # First, mount Google Drive if not already mounted\n",
        "    from google.colab import drive\n",
        "    drive.mount('/content/drive', force_remount=True)\n",
        "\n",
        "    # Create a directory for models if it doesn't exist\n",
        "    import os\n",
        "    save_path = '/content/drive/MyDrive/pong_dqn_models_' + type\n",
        "    os.makedirs(save_path, exist_ok=True)\n",
        "\n",
        "    # Create environment (old gym API doesn't use render_mode parameter)\n",
        "    env = gym.make(env_name, render_mode='rgb_array')\n",
        "    n_actions = env.action_space.n\n",
        "\n",
        "    # Print some environment info\n",
        "    print(f\"Environment: {env_name}\")\n",
        "    print(f\"Observation Space: {env.observation_space}\")\n",
        "    print(f\"Action Space: {env.action_space}\")\n",
        "\n",
        "    # Initialize the agent\n",
        "    agent = DQNAgent((IMAGE_SHAPE[0], IMAGE_SHAPE[1], STACK_SIZE), n_actions)\n",
        "\n",
        "    # Metrics to track progress\n",
        "    episode_rewards = []\n",
        "    episode_losses = []\n",
        "\n",
        "    # Import numpy here, inside the function's scope\n",
        "    import numpy as np\n",
        "\n",
        "    for episode in range(total_episodes):\n",
        "        # Reset environment and get initial state (old gym API)\n",
        "        observation, _ = env.reset()\n",
        "        frame_stacker = FrameStacker(IMAGE_SHAPE, STACK_SIZE)\n",
        "        state = frame_stacker.reset(observation)\n",
        "\n",
        "        episode_reward = 0\n",
        "        episode_loss = []\n",
        "        done = False\n",
        "        step = 0\n",
        "\n",
        "        # Run one episode\n",
        "        while not done:\n",
        "            # Select action using epsilon-greedy policy\n",
        "            action = agent.get_action(state)\n",
        "\n",
        "            # Execute action in the environment\n",
        "            next_observation, reward, terminated, truncated, _ = env.step(action)\n",
        "            done = terminated or truncated\n",
        "\n",
        "            # Process reward (clip to -1, 0, 1 as per standard DQN implementation)\n",
        "            processed_reward = transform_reward(reward)\n",
        "\n",
        "            # Stack frames for next state\n",
        "            next_state = frame_stacker.add_frame(next_observation)\n",
        "\n",
        "            # Store transition in replay buffer\n",
        "            agent.store_transition(state, action, processed_reward, next_state, done)\n",
        "\n",
        "            # Train agent\n",
        "            loss = agent.train()\n",
        "            if loss != 0:\n",
        "                episode_loss.append(loss)\n",
        "\n",
        "            # Update state and accumulate reward\n",
        "            state = next_state\n",
        "            episode_reward += reward\n",
        "            step += 1\n",
        "\n",
        "            # Render if required (every 10 episodes to avoid slowing down training)\n",
        "            if render and episode % 10 == 0:\n",
        "                display.clear_output(wait=True)\n",
        "                plt.imshow(env.render())\n",
        "                plt.axis('off')\n",
        "                display.display(plt.gcf())\n",
        "                plt.clf()\n",
        "\n",
        "        # Update target network according to update frequency\n",
        "        agent.episode_count += 1\n",
        "        if agent.episode_count % TARGET_UPDATE_FREQ == 0:\n",
        "            agent.update_target()\n",
        "            print(f\"Updated target network at episode {agent.episode_count}\")\n",
        "\n",
        "        # Record metrics\n",
        "        episode_rewards.append(episode_reward)\n",
        "        if episode_loss:\n",
        "            episode_losses.append(np.mean(episode_loss))\n",
        "        else:\n",
        "            episode_losses.append(0)\n",
        "\n",
        "        # Print progress\n",
        "        print(f\"Episode {episode+1}/{total_episodes}, Steps: {step}, Reward: {episode_reward}, Epsilon: {agent.epsilon:.4f}\")\n",
        "\n",
        "        # Save model every 3 episodes to Google Drive\n",
        "        if (episode + 1) % 5 == 0:\n",
        "            model_path = os.path.join(save_path, f\"pong_dqn_episode_{episode+1}.keras\")\n",
        "            agent.save_model(model_path)\n",
        "            print(f\"Model saved at episode {episode+1} to {model_path}\")\n",
        "\n",
        "    # Save final model to Google Drive\n",
        "    final_model_path = os.path.join(save_path, \"pong_dqn_final.keras\")\n",
        "    agent.save_model(final_model_path)\n",
        "    print(f\"Final model saved to {final_model_path}!\")\n",
        "\n",
        "    # Also save the training metrics to Google Drive\n",
        "    import numpy as np\n",
        "    metrics_path = os.path.join(save_path, \"training_metrics.npz\")\n",
        "    np.savez(metrics_path, rewards=episode_rewards, losses=episode_losses)\n",
        "    print(f\"Training metrics saved to {metrics_path}\")\n",
        "\n",
        "    env.close()\n",
        "\n",
        "    return episode_rewards, episode_losses"
      ]
    },
    {
      "cell_type": "markdown",
      "id": "ee02d983cb18f6bc",
      "metadata": {
        "id": "ee02d983cb18f6bc"
      },
      "source": [
        "#### **Plot Training Batch Size - 8**\n",
        "##### Updated every thousand frames\n"
      ]
    },
    {
      "cell_type": "code",
      "execution_count": 48,
      "id": "410959057929a1e",
      "metadata": {
        "colab": {
          "base_uri": "https://localhost:8080/",
          "height": 958
        },
        "id": "410959057929a1e",
        "outputId": "9c0e1ed2-e73b-4acd-a32f-41651aa454b8"
      },
      "outputs": [
        {
          "name": "stdout",
          "output_type": "stream",
          "text": [
            "Mounted at /content/drive\n",
            "Environment: PongDeterministic-v4\n",
            "Observation Space: Box(0, 255, (210, 160, 3), uint8)\n",
            "Action Space: Discrete(6)\n",
            "Episode 1/10, Steps: 881, Reward: -21.0, Epsilon: 1.0000\n",
            "Updated target network at frame 1000\n",
            "Episode 2/10, Steps: 850, Reward: -21.0, Epsilon: 0.9125\n",
            "Updated target network at frame 2000\n",
            "Episode 3/10, Steps: 811, Reward: -21.0, Epsilon: 0.8244\n",
            "Updated target network at frame 3000\n",
            "Episode 4/10, Steps: 792, Reward: -21.0, Epsilon: 0.7467\n",
            "Updated target network at frame 4000\n",
            "Episode 5/10, Steps: 948, Reward: -19.0, Epsilon: 0.6633\n",
            "Model saved at episode 5 to /content/drive/MyDrive/pong_dqn_models_batch_8/pong_dqn_episode_5.keras\n",
            "Updated target network at frame 5000\n",
            "Episode 6/10, Steps: 947, Reward: -20.0, Epsilon: 0.5891\n",
            "Updated target network at frame 6000\n",
            "Episode 7/10, Steps: 876, Reward: -21.0, Epsilon: 0.5280\n",
            "Episode 8/10, Steps: 792, Reward: -21.0, Epsilon: 0.4782\n",
            "Updated target network at frame 7000\n",
            "Episode 9/10, Steps: 811, Reward: -21.0, Epsilon: 0.4323\n",
            "Updated target network at frame 8000\n",
            "Episode 10/10, Steps: 867, Reward: -20.0, Epsilon: 0.3878\n",
            "Model saved at episode 10 to /content/drive/MyDrive/pong_dqn_models_batch_8/pong_dqn_episode_10.keras\n",
            "Final model saved to /content/drive/MyDrive/pong_dqn_models_batch_8/pong_dqn_final.keras!\n",
            "Training metrics saved to /content/drive/MyDrive/pong_dqn_models_batch_8/training_metrics.npz\n"
          ]
        },
        {
          "data": {
            "image/png": "[encoded data removed]",
            "text/plain": [
              "<Figure size 1200x500 with 2 Axes>"
            ]
          },
          "metadata": {},
          "output_type": "display_data"
        }
      ],
      "source": [
        "rewards, losses = train_dqn(ENV_NAME, total_episodes=10, render=False, type=\"batch_8\")\n",
        "\n",
        "## Visualize Training Results\n",
        "\"\"\"\n",
        "This code visualizes the training progress by plotting the rewards and losses.\n",
        "\"\"\"\n",
        "# Plot the rewards\n",
        "plt.figure(figsize=(12, 5))\n",
        "plt.subplot(1, 2, 1)\n",
        "plt.plot(rewards)\n",
        "plt.title('Episode Rewards')\n",
        "plt.xlabel('Episode')\n",
        "plt.ylabel('Reward')\n",
        "plt.grid(True)\n",
        "\n",
        "# Adding a moving average to see trends better\n",
        "if len(rewards) > 10:\n",
        "    moving_avg = np.convolve(rewards, np.ones(10)/10, mode='valid')\n",
        "    plt.plot(range(9, len(rewards)), moving_avg, 'r', label='10-episode moving average')\n",
        "    plt.legend()\n",
        "\n",
        "# Plot the losses\n",
        "plt.subplot(1, 2, 2)\n",
        "plt.plot(losses)\n",
        "plt.title('Training Loss')\n",
        "plt.xlabel('Episode')\n",
        "plt.ylabel('Loss')\n",
        "plt.grid(True)\n",
        "\n",
        "plt.tight_layout()\n",
        "plt.savefig('training_results.png')  # Save the figure\n",
        "plt.show()"
      ]
    },
    {
      "cell_type": "markdown",
      "id": "6ea717f2d845c589",
      "metadata": {
        "id": "6ea717f2d845c589"
      },
      "source": [
        "#### **Evaluation**"
      ]
    },
    {
      "cell_type": "code",
      "execution_count": 54,
      "id": "66e5caacebf69ec7",
      "metadata": {
        "id": "66e5caacebf69ec7"
      },
      "outputs": [],
      "source": [
        "import gym\n",
        "\n",
        "def evaluate_agent(env_name, model_filename, n_episodes=5, render=True, type=\"batch_8\"):\n",
        "    from google.colab import drive\n",
        "    drive.mount('/content/drive', force_remount=False)  # Don't force remount if already mounted\n",
        "\n",
        "    # Construct path to the model file\n",
        "    model_path = f'/content/drive/MyDrive/pong_dqn_models_{type}/{model_filename}'\n",
        "    print(f\"Loading model from: {model_path}\")\n",
        "    \"\"\"Evaluate a trained DQN agent.\"\"\"\n",
        "    env = gym.make(env_name, render_mode='rgb_array')\n",
        "    n_actions = env.action_space.n\n",
        "\n",
        "    # Load the agent\n",
        "    agent = DQNAgent((IMAGE_SHAPE[0], IMAGE_SHAPE[1], STACK_SIZE), n_actions)\n",
        "    agent.load_model(model_path)\n",
        "    # Use a small epsilon for some exploration during evaluation\n",
        "    agent.epsilon = 0.05\n",
        "\n",
        "    total_rewards = []\n",
        "\n",
        "    for episode in range(n_episodes):\n",
        "        observation, _ = env.reset()\n",
        "        frame_stacker = FrameStacker(IMAGE_SHAPE, STACK_SIZE)\n",
        "        state = frame_stacker.reset(observation)\n",
        "\n",
        "        episode_reward = 0\n",
        "        done = False\n",
        "        step = 0\n",
        "\n",
        "        while not done:\n",
        "            # Select action\n",
        "            action = agent.get_action(state)\n",
        "\n",
        "            # Execute action\n",
        "            next_observation, reward, terminated, truncated, _ = env.step(action)\n",
        "            done = terminated or truncated\n",
        "\n",
        "            # Stack frames for next state\n",
        "            next_state = frame_stacker.add_frame(next_observation)\n",
        "\n",
        "            # Update state and accumulate reward\n",
        "            state = next_state\n",
        "            episode_reward += reward\n",
        "            step += 1\n",
        "\n",
        "            # Render if required\n",
        "            if render:\n",
        "                display.clear_output(wait=True)\n",
        "                plt.imshow(env.render())\n",
        "                plt.axis('off')\n",
        "                display.display(plt.gcf())\n",
        "                plt.clf()\n",
        "\n",
        "        total_rewards.append(episode_reward)\n",
        "        print(f\"Evaluation Episode {episode+1}/{n_episodes}, Steps: {step}, Reward: {episode_reward}\")\n",
        "\n",
        "    # Calculate statistics\n",
        "    avg_reward = np.mean(total_rewards)\n",
        "    std_reward = np.std(total_rewards)\n",
        "\n",
        "    print(f\"Evaluation Results:\")\n",
        "    print(f\"Average Reward: {avg_reward:.2f} ± {std_reward:.2f}\")\n",
        "    print(f\"Min Reward: {np.min(total_rewards)}\")\n",
        "    print(f\"Max Reward: {np.max(total_rewards)}\")\n",
        "\n",
        "    env.close()\n",
        "    return total_rewards"
      ]
    },
    {
      "cell_type": "code",
      "execution_count": 55,
      "id": "IpmPnUpXZXb6",
      "metadata": {
        "colab": {
          "base_uri": "https://localhost:8080/",
          "height": 527
        },
        "id": "IpmPnUpXZXb6",
        "outputId": "dd9ad579-74b3-4afa-8712-ceb980054656"
      },
      "outputs": [
        {
          "data": {
            "image/png": "[encoded data removed]",
            "text/plain": [
              "<Figure size 640x480 with 1 Axes>"
            ]
          },
          "metadata": {},
          "output_type": "display_data"
        },
        {
          "name": "stdout",
          "output_type": "stream",
          "text": [
            "Evaluation Episode 5/5, Steps: 764, Reward: -21.0\n",
            "Evaluation Results:\n",
            "Average Reward: -20.80 ± 0.40\n",
            "Min Reward: -21.0\n",
            "Max Reward: -20.0\n",
            "Average Evaluation Reward: -20.8\n"
          ]
        },
        {
          "data": {
            "text/plain": [
              "<Figure size 640x480 with 0 Axes>"
            ]
          },
          "metadata": {},
          "output_type": "display_data"
        }
      ],
      "source": [
        "\n",
        "# To evaluate the trained agent, uncomment and run this cell after training\n",
        "evaluation_rewards = evaluate_agent(ENV_NAME, \"pong_dqn_final.keras\", n_episodes=5, type=\"batch_8\")\n",
        "print(f\"Average Evaluation Reward: {np.mean(evaluation_rewards)}\")"
      ]
    }
  ],
  "metadata": {
    "accelerator": "GPU",
    "colab": {
      "gpuType": "T4",
      "provenance": []
    },
    "kernelspec": {
      "display_name": "Python 3",
      "name": "python3"
    },
    "language_info": {
      "codemirror_mode": {
        "name": "ipython",
        "version": 2
      },
      "file_extension": ".py",
      "mimetype": "text/x-python",
      "name": "python",
      "nbconvert_exporter": "python",
      "pygments_lexer": "ipython2",
      "version": "2.7.6"
    }
  },
  "nbformat": 4,
  "nbformat_minor": 5
}
