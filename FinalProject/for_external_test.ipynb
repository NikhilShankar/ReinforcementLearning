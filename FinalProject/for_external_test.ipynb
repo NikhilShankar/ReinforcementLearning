{
 "cells": [
  {
   "metadata": {},
   "cell_type": "markdown",
   "source": [
    "## **Reinforcement Learning**\n",
    "#### **Battleship - RL Techniques to solve the game**\n",
    "#### Prepared by Group 4\n"
   ],
   "id": "d73dfb83aaf472b8"
  },
  {
   "metadata": {},
   "cell_type": "markdown",
   "source": [
    "#### **Section 1 : Guide to run the Battleship Visual Game**\n",
    "The project has trained and saved 4 models that play battleship game using 4 different strategies. These models are saved and we have created a visual game player which allows us to see these models playing against each other. The stats and results are saved for later evaluations and improvements. Follow the 3 steps below to run the Battleship Visual Game.\n",
    "\n",
    "> We have also provided a guide on how to use the visual game player which comes after this section\n",
    "\n",
    "\n",
    "#### **Step 1 : Install Dependencies**"
   ],
   "id": "99baed41916373c0"
  },
  {
   "metadata": {
    "ExecuteTime": {
     "end_time": "2025-04-15T00:21:43.032539Z",
     "start_time": "2025-04-15T00:21:28.933417Z"
    }
   },
   "cell_type": "code",
   "source": "!pip install -r requirements.txt",
   "id": "89f41bcbef2120c1",
   "outputs": [
    {
     "name": "stdout",
     "output_type": "stream",
     "text": [
      "Collecting gym==0.26.2 (from -r requirements.txt (line 1))\n",
      "  Using cached gym-0.26.2-py3-none-any.whl\n",
      "Requirement already satisfied: matplotlib==3.10.1 in c:\\users\\niksn\\appdata\\local\\programs\\python\\python313\\lib\\site-packages (from -r requirements.txt (line 2)) (3.10.1)\n",
      "Collecting numpy==2.2.4 (from -r requirements.txt (line 3))\n",
      "  Using cached numpy-2.2.4-cp313-cp313-win_amd64.whl.metadata (60 kB)\n",
      "Requirement already satisfied: pandas==2.2.3 in c:\\users\\niksn\\appdata\\local\\programs\\python\\python313\\lib\\site-packages (from -r requirements.txt (line 4)) (2.2.3)\n",
      "Collecting seaborn==0.13.2 (from -r requirements.txt (line 5))\n",
      "  Using cached seaborn-0.13.2-py3-none-any.whl.metadata (5.4 kB)\n",
      "Requirement already satisfied: tqdm==4.67.1 in c:\\users\\niksn\\appdata\\local\\programs\\python\\python313\\lib\\site-packages (from -r requirements.txt (line 6)) (4.67.1)\n",
      "Collecting cloudpickle>=1.2.0 (from gym==0.26.2->-r requirements.txt (line 1))\n",
      "  Using cached cloudpickle-3.1.1-py3-none-any.whl.metadata (7.1 kB)\n",
      "Collecting gym_notices>=0.0.4 (from gym==0.26.2->-r requirements.txt (line 1))\n",
      "  Using cached gym_notices-0.0.8-py3-none-any.whl.metadata (1.0 kB)\n",
      "Requirement already satisfied: contourpy>=1.0.1 in c:\\users\\niksn\\appdata\\local\\programs\\python\\python313\\lib\\site-packages (from matplotlib==3.10.1->-r requirements.txt (line 2)) (1.3.1)\n",
      "Requirement already satisfied: cycler>=0.10 in c:\\users\\niksn\\appdata\\local\\programs\\python\\python313\\lib\\site-packages (from matplotlib==3.10.1->-r requirements.txt (line 2)) (0.12.1)\n",
      "Requirement already satisfied: fonttools>=4.22.0 in c:\\users\\niksn\\appdata\\local\\programs\\python\\python313\\lib\\site-packages (from matplotlib==3.10.1->-r requirements.txt (line 2)) (4.56.0)\n",
      "Requirement already satisfied: kiwisolver>=1.3.1 in c:\\users\\niksn\\appdata\\local\\programs\\python\\python313\\lib\\site-packages (from matplotlib==3.10.1->-r requirements.txt (line 2)) (1.4.8)\n",
      "Requirement already satisfied: packaging>=20.0 in c:\\users\\niksn\\appdata\\local\\programs\\python\\python313\\lib\\site-packages (from matplotlib==3.10.1->-r requirements.txt (line 2)) (24.2)\n",
      "Requirement already satisfied: pillow>=8 in c:\\users\\niksn\\appdata\\local\\programs\\python\\python313\\lib\\site-packages (from matplotlib==3.10.1->-r requirements.txt (line 2)) (11.1.0)\n",
      "Requirement already satisfied: pyparsing>=2.3.1 in c:\\users\\niksn\\appdata\\local\\programs\\python\\python313\\lib\\site-packages (from matplotlib==3.10.1->-r requirements.txt (line 2)) (3.2.1)\n",
      "Requirement already satisfied: python-dateutil>=2.7 in c:\\users\\niksn\\appdata\\local\\programs\\python\\python313\\lib\\site-packages (from matplotlib==3.10.1->-r requirements.txt (line 2)) (2.9.0.post0)\n",
      "Requirement already satisfied: pytz>=2020.1 in c:\\users\\niksn\\appdata\\local\\programs\\python\\python313\\lib\\site-packages (from pandas==2.2.3->-r requirements.txt (line 4)) (2025.1)\n",
      "Requirement already satisfied: tzdata>=2022.7 in c:\\users\\niksn\\appdata\\local\\programs\\python\\python313\\lib\\site-packages (from pandas==2.2.3->-r requirements.txt (line 4)) (2025.1)\n",
      "Requirement already satisfied: colorama in c:\\users\\niksn\\appdata\\local\\programs\\python\\python313\\lib\\site-packages (from tqdm==4.67.1->-r requirements.txt (line 6)) (0.4.6)\n",
      "Requirement already satisfied: six>=1.5 in c:\\users\\niksn\\appdata\\local\\programs\\python\\python313\\lib\\site-packages (from python-dateutil>=2.7->matplotlib==3.10.1->-r requirements.txt (line 2)) (1.17.0)\n",
      "Using cached numpy-2.2.4-cp313-cp313-win_amd64.whl (12.6 MB)\n",
      "Using cached seaborn-0.13.2-py3-none-any.whl (294 kB)\n",
      "Using cached cloudpickle-3.1.1-py3-none-any.whl (20 kB)\n",
      "Using cached gym_notices-0.0.8-py3-none-any.whl (3.0 kB)\n",
      "Installing collected packages: gym_notices, numpy, cloudpickle, gym, seaborn\n",
      "  Attempting uninstall: numpy\n",
      "    Found existing installation: numpy 2.2.3\n",
      "    Uninstalling numpy-2.2.3:\n",
      "      Successfully uninstalled numpy-2.2.3\n",
      "Successfully installed cloudpickle-3.1.1 gym-0.26.2 gym_notices-0.0.8 numpy-2.2.4 seaborn-0.13.2\n"
     ]
    },
    {
     "name": "stderr",
     "output_type": "stream",
     "text": [
      "\n",
      "[notice] A new release of pip is available: 24.3.1 -> 25.0.1\n",
      "[notice] To update, run: python.exe -m pip install --upgrade pip\n"
     ]
    }
   ],
   "execution_count": 3
  },
  {
   "metadata": {},
   "cell_type": "markdown",
   "source": [
    "#### **Step 2 : Checking Python Version**\n",
    "> Compatibility tested with 3.12 and 3.13.1\n",
    "> Might work with other versions as well. If not install python from\n",
    "> the following link ( Versions 3.13.1 https://www.python.org/downloads/release/python-3131/ )"
   ],
   "id": "34536311289ed781"
  },
  {
   "metadata": {
    "ExecuteTime": {
     "end_time": "2025-04-14T23:51:08.759357Z",
     "start_time": "2025-04-14T23:51:08.727681Z"
    }
   },
   "cell_type": "code",
   "source": "!python --version",
   "id": "2babfe198acc9e2e",
   "outputs": [
    {
     "name": "stdout",
     "output_type": "stream",
     "text": [
      "Python 3.13.1\n"
     ]
    }
   ],
   "execution_count": 1
  },
  {
   "metadata": {},
   "cell_type": "markdown",
   "source": "#### **Step 3 : Run Visual Game Player**\n",
   "id": "927f9661de4311c6"
  },
  {
   "metadata": {
    "ExecuteTime": {
     "end_time": "2025-04-15T00:31:43.250958Z",
     "start_time": "2025-04-15T00:24:44.104511Z"
    }
   },
   "cell_type": "code",
   "source": "!python battleship_launcher.py",
   "id": "6457ca7a91e92ed2",
   "outputs": [
    {
     "name": "stdout",
     "output_type": "stream",
     "text": [
      "Current working directory: D:\\Conestoga\\Sem2\\ReinforcementLearning\\FinalProject\n",
      "Loading agent 1 from: D:\\Conestoga\\Sem2\\ReinforcementLearning\\FinalProject\\final_saved_models\\smart_agent.pkl\n",
      "Loading agent 2 from: D:\\Conestoga\\Sem2\\ReinforcementLearning\\FinalProject\\final_saved_models\\thompson_sampling_agent.pkl\n",
      "Agent 1 file exists: True\n",
      "Agent 2 file exists: True\n",
      "Contents of final_saved_models directory:\n",
      "  qlearning_agent.pkl\n",
      "  random_agent.pkl\n",
      "  smart_agent.pkl\n",
      "  thompson_sampling_agent.pkl\n"
     ]
    }
   ],
   "execution_count": 9
  },
  {
   "metadata": {},
   "cell_type": "markdown",
   "source": "### **Section 2 : Guide to Use the Visual Player**",
   "id": "ca966cac761ec9a7"
  },
  {
   "metadata": {},
   "cell_type": "markdown",
   "source": "#### **After completing Section 1 you should be seeing a visual player like this opened in a new window.**",
   "id": "4fa61b486f4691c"
  },
  {
   "metadata": {},
   "cell_type": "markdown",
   "source": "![Visual Player](VisualPlayerScreenshots/Battleship1.png)\n",
   "id": "b998a1bcb30d9204"
  },
  {
   "metadata": {},
   "cell_type": "markdown",
   "source": [
    "#### **Select Players**\n",
    "The description and algorithm used for each player can be seen once you select a player.\n",
    "![Select Player](VisualPlayerScreenshots/Battleship2.png)\n"
   ],
   "id": "a215b39a9276cc22"
  },
  {
   "metadata": {},
   "cell_type": "markdown",
   "source": [
    "#### **Start Game**\n",
    "Clicking on this button will open a new window, with a randomly setup ship configuration against which both players will play.\n",
    "![Select Player](VisualPlayerScreenshots/Battleship3.png)\n"
   ],
   "id": "5994890cc350000f"
  },
  {
   "metadata": {},
   "cell_type": "markdown",
   "source": [
    "#### **Game Config**\n",
    "You can adjust the speed with which each step is taken ( You can reduce the time to 0.1 seconds to make it faster. 1 second is default )\n",
    "You can also choose to view each step individually. ( Click Next Step Button to do so )\n",
    "![Select Player](VisualPlayerScreenshots/Battleship4-GameConfig.png)"
   ],
   "id": "c3599c60b85603af"
  },
  {
   "metadata": {},
   "cell_type": "markdown",
   "source": [
    "#### **Game Ending**\n",
    "The game ends when both players finish bombing the opponents ships.\n",
    "A new window will open at this point and a summary of the game is included in the window.\n",
    "![Select Player](VisualPlayerScreenshots/Battleship4-GameResults.png)"
   ],
   "id": "bcfd35c3390abd53"
  },
  {
   "metadata": {},
   "cell_type": "markdown",
   "source": [
    "#### **Game Ending**\n",
    "The game ends when both players finish bombing the opponents ships.\n",
    "A new window will open at this point.\n",
    "Click on Return to Main Menu\n",
    "![Select Player](VisualPlayerScreenshots/Battleship4-GameResults.png)"
   ],
   "id": "7a37cd83b5675399"
  },
  {
   "metadata": {},
   "cell_type": "markdown",
   "source": [
    "#### **Viewing Game Statistics and individual performance**\n",
    "Click on View statistics button in main menu after playing couple of games. ( Initially it will be empty - since no games have been played )\n",
    "A new window will open at this point.\n",
    "![Select Player](VisualPlayerScreenshots/Battleship4-ViewStats.png)"
   ],
   "id": "f9c5311535e6f495"
  },
  {
   "metadata": {},
   "cell_type": "markdown",
   "source": [
    "#### **Player Stats**\n",
    "Gives an overview of Games won, lost and average shots to win. It also keeps track of max and min shots taken to win.\n",
    "![Select Player](VisualPlayerScreenshots/Battleship4-PlayerStats.png)"
   ],
   "id": "4514bca8aeed95b8"
  },
  {
   "metadata": {},
   "cell_type": "markdown",
   "source": [
    "#### **Individual Player Details**\n",
    "Click on Player Details\n",
    "![Select Player](VisualPlayerScreenshots/Battleship4-PlayerDetails.png)\n",
    "\n",
    "Select the player from the dropdown\n",
    "![Select Player](VisualPlayerScreenshots/Battleship4-PlayerDetails-2.png)"
   ],
   "id": "bcfabcd9edb63c4d"
  },
  {
   "metadata": {},
   "cell_type": "markdown",
   "source": [
    "### **Important Files to check for details of Implementation**\n",
    "\n",
    "> All the below files are inside ```FinalProject``` folder in the github project root"
   ],
   "id": "8f0d5dc9d4e745f9"
  },
  {
   "metadata": {},
   "cell_type": "markdown",
   "source": [
    "| File Name            | Details                                                                                                                                                  |\n",
    "|:---------------------|:---------------------------------------------------------------------------------------------------------------------------------------------------------|\n",
    "| battleship_5x5.ipynb | Has all the main code used to train and save the models used for the project                                                                             |\n",
    "| battleship_env.py    | Contains an inherited Gym Env class ( battleship env ) which is used to setup the basic functionality like environment, state space, rewards and actions |\n",
    "| random_agent.py      | Class used to define an agent which shoots randomly                                                                                                      |\n",
    "| smart_agent.py       | Class used to define an agent which shoots randomly at start and shoots adjacent cells after it gets a hit                                               |\n",
    "| qlearning_agent.py   | Class used to define QLearning agent. The Bellman equation implementation is defined inside this class                                                   |\n",
    "| thomson_model.py     | Class used to define the agent which uses Thompson sampling. The Beta Distributions ( alpha and beta ) are defined inside this class                     |\n",
    "| tournament_comparison.py | Class used to simulate a predefined set of games against two models and save the metrics of performance like wins losses and average shots, the results of these experiments will be saved inside ```battleship_results``` folder. |\n",
    "| tournament_nonui_comparison.py | This is an advanced non-ui version of ```tournament_comparison.py``` and it contains code which calculates and analyses **Manhattan Distance** between ships. This was crucial in understanding the performance difference between smart agent and Thompson agent. |"
   ],
   "id": "13b695a836811337"
  },
  {
   "metadata": {},
   "cell_type": "markdown",
   "source": "> All the saved models can be viewed inside ```FinalProject/final_saved_models``` folder",
   "id": "e130c05ad223b7f0"
  },
  {
   "metadata": {},
   "cell_type": "code",
   "outputs": [],
   "execution_count": null,
   "source": "",
   "id": "7329f9037082888"
  }
 ],
 "metadata": {
  "kernelspec": {
   "name": "python3",
   "language": "python",
   "display_name": "Python 3 (ipykernel)"
  }
 },
 "nbformat": 5,
 "nbformat_minor": 9
}
