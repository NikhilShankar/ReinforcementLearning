{
 "cells": [
  {
   "metadata": {
    "ExecuteTime": {
     "end_time": "2025-04-13T17:37:01.488590Z",
     "start_time": "2025-04-13T17:36:44.035567Z"
    }
   },
   "cell_type": "code",
   "source": [
    "!pip install -r requirements.txt\n",
    "\n",
    "!python battleship_launcher.py"
   ],
   "id": "9ad686f4b3bc825",
   "outputs": [
    {
     "name": "stdout",
     "output_type": "stream",
     "text": [
      "Requirement already satisfied: gym==0.26.2 in d:\\conestoga\\sem2\\reinforcementlearning\\.venv\\lib\\site-packages (from -r requirements.txt (line 1)) (0.26.2)\n",
      "Requirement already satisfied: matplotlib==3.10.1 in d:\\conestoga\\sem2\\reinforcementlearning\\.venv\\lib\\site-packages (from -r requirements.txt (line 2)) (3.10.1)\n",
      "Collecting numpy==2.2.4 (from -r requirements.txt (line 3))\n",
      "  Obtaining dependency information for numpy==2.2.4 from https://files.pythonhosted.org/packages/8b/72/10c1d2d82101c468a28adc35de6c77b308f288cfd0b88e1070f15b98e00c/numpy-2.2.4-cp311-cp311-win_amd64.whl.metadata\n",
      "  Downloading numpy-2.2.4-cp311-cp311-win_amd64.whl.metadata (60 kB)\n",
      "     ---------------------------------------- 0.0/60.8 kB ? eta -:--:--\n",
      "     ---------------------------------------- 60.8/60.8 kB 3.4 MB/s eta 0:00:00\n",
      "Requirement already satisfied: pandas==2.2.3 in d:\\conestoga\\sem2\\reinforcementlearning\\.venv\\lib\\site-packages (from -r requirements.txt (line 4)) (2.2.3)\n",
      "Requirement already satisfied: seaborn==0.13.2 in d:\\conestoga\\sem2\\reinforcementlearning\\.venv\\lib\\site-packages (from -r requirements.txt (line 5)) (0.13.2)\n",
      "Requirement already satisfied: tqdm==4.67.1 in d:\\conestoga\\sem2\\reinforcementlearning\\.venv\\lib\\site-packages (from -r requirements.txt (line 6)) (4.67.1)\n",
      "Requirement already satisfied: cloudpickle>=1.2.0 in d:\\conestoga\\sem2\\reinforcementlearning\\.venv\\lib\\site-packages (from gym==0.26.2->-r requirements.txt (line 1)) (3.1.1)\n",
      "Requirement already satisfied: gym_notices>=0.0.4 in d:\\conestoga\\sem2\\reinforcementlearning\\.venv\\lib\\site-packages (from gym==0.26.2->-r requirements.txt (line 1)) (0.0.8)\n",
      "Requirement already satisfied: contourpy>=1.0.1 in d:\\conestoga\\sem2\\reinforcementlearning\\.venv\\lib\\site-packages (from matplotlib==3.10.1->-r requirements.txt (line 2)) (1.3.1)\n",
      "Requirement already satisfied: cycler>=0.10 in d:\\conestoga\\sem2\\reinforcementlearning\\.venv\\lib\\site-packages (from matplotlib==3.10.1->-r requirements.txt (line 2)) (0.12.1)\n",
      "Requirement already satisfied: fonttools>=4.22.0 in d:\\conestoga\\sem2\\reinforcementlearning\\.venv\\lib\\site-packages (from matplotlib==3.10.1->-r requirements.txt (line 2)) (4.56.0)\n",
      "Requirement already satisfied: kiwisolver>=1.3.1 in d:\\conestoga\\sem2\\reinforcementlearning\\.venv\\lib\\site-packages (from matplotlib==3.10.1->-r requirements.txt (line 2)) (1.4.8)\n",
      "Requirement already satisfied: packaging>=20.0 in d:\\conestoga\\sem2\\reinforcementlearning\\.venv\\lib\\site-packages (from matplotlib==3.10.1->-r requirements.txt (line 2)) (24.2)\n",
      "Requirement already satisfied: pillow>=8 in d:\\conestoga\\sem2\\reinforcementlearning\\.venv\\lib\\site-packages (from matplotlib==3.10.1->-r requirements.txt (line 2)) (11.1.0)\n",
      "Requirement already satisfied: pyparsing>=2.3.1 in d:\\conestoga\\sem2\\reinforcementlearning\\.venv\\lib\\site-packages (from matplotlib==3.10.1->-r requirements.txt (line 2)) (3.2.1)\n",
      "Requirement already satisfied: python-dateutil>=2.7 in d:\\conestoga\\sem2\\reinforcementlearning\\.venv\\lib\\site-packages (from matplotlib==3.10.1->-r requirements.txt (line 2)) (2.9.0.post0)\n",
      "Requirement already satisfied: pytz>=2020.1 in d:\\conestoga\\sem2\\reinforcementlearning\\.venv\\lib\\site-packages (from pandas==2.2.3->-r requirements.txt (line 4)) (2025.1)\n",
      "Requirement already satisfied: tzdata>=2022.7 in d:\\conestoga\\sem2\\reinforcementlearning\\.venv\\lib\\site-packages (from pandas==2.2.3->-r requirements.txt (line 4)) (2025.1)\n",
      "Requirement already satisfied: colorama in d:\\conestoga\\sem2\\reinforcementlearning\\.venv\\lib\\site-packages (from tqdm==4.67.1->-r requirements.txt (line 6)) (0.4.6)\n",
      "Requirement already satisfied: six>=1.5 in d:\\conestoga\\sem2\\reinforcementlearning\\.venv\\lib\\site-packages (from python-dateutil>=2.7->matplotlib==3.10.1->-r requirements.txt (line 2)) (1.17.0)\n",
      "Downloading numpy-2.2.4-cp311-cp311-win_amd64.whl (12.9 MB)\n",
      "   ---------------------------------------- 0.0/12.9 MB ? eta -:--:--\n",
      "    --------------------------------------- 0.2/12.9 MB 7.3 MB/s eta 0:00:02\n",
      "   -- ------------------------------------- 0.7/12.9 MB 7.6 MB/s eta 0:00:02\n",
      "   --- ------------------------------------ 1.1/12.9 MB 9.1 MB/s eta 0:00:02\n",
      "   ---- ----------------------------------- 1.6/12.9 MB 8.4 MB/s eta 0:00:02\n",
      "   ------ --------------------------------- 2.0/12.9 MB 9.3 MB/s eta 0:00:02\n",
      "   ------- -------------------------------- 2.3/12.9 MB 8.7 MB/s eta 0:00:02\n",
      "   -------- ------------------------------- 2.7/12.9 MB 8.5 MB/s eta 0:00:02\n",
      "   --------- ------------------------------ 3.0/12.9 MB 8.0 MB/s eta 0:00:02\n",
      "   ---------- ----------------------------- 3.4/12.9 MB 8.1 MB/s eta 0:00:02\n",
      "   ----------- ---------------------------- 3.7/12.9 MB 8.2 MB/s eta 0:00:02\n",
      "   ----------- ---------------------------- 3.8/12.9 MB 7.6 MB/s eta 0:00:02\n",
      "   ------------ --------------------------- 4.1/12.9 MB 7.2 MB/s eta 0:00:02\n",
      "   -------------- ------------------------- 4.6/12.9 MB 7.6 MB/s eta 0:00:02\n",
      "   --------------- ------------------------ 5.0/12.9 MB 7.7 MB/s eta 0:00:02\n",
      "   ---------------- ----------------------- 5.5/12.9 MB 7.8 MB/s eta 0:00:01\n",
      "   ------------------ --------------------- 5.9/12.9 MB 7.9 MB/s eta 0:00:01\n",
      "   ------------------- -------------------- 6.4/12.9 MB 7.9 MB/s eta 0:00:01\n",
      "   --------------------- ------------------ 6.9/12.9 MB 8.1 MB/s eta 0:00:01\n",
      "   ---------------------- ----------------- 7.1/12.9 MB 8.1 MB/s eta 0:00:01\n",
      "   ----------------------- ---------------- 7.5/12.9 MB 7.9 MB/s eta 0:00:01\n",
      "   ----------------------- ---------------- 7.7/12.9 MB 7.8 MB/s eta 0:00:01\n",
      "   ------------------------ --------------- 7.9/12.9 MB 7.7 MB/s eta 0:00:01\n",
      "   ------------------------- -------------- 8.1/12.9 MB 7.6 MB/s eta 0:00:01\n",
      "   ------------------------- -------------- 8.4/12.9 MB 7.4 MB/s eta 0:00:01\n",
      "   -------------------------- ------------- 8.7/12.9 MB 7.4 MB/s eta 0:00:01\n",
      "   --------------------------- ------------ 8.9/12.9 MB 7.3 MB/s eta 0:00:01\n",
      "   --------------------------- ------------ 9.1/12.9 MB 7.1 MB/s eta 0:00:01\n",
      "   ---------------------------- ----------- 9.3/12.9 MB 7.0 MB/s eta 0:00:01\n",
      "   ----------------------------- ---------- 9.5/12.9 MB 7.0 MB/s eta 0:00:01\n",
      "   ----------------------------- ---------- 9.7/12.9 MB 6.8 MB/s eta 0:00:01\n",
      "   ------------------------------ --------- 9.9/12.9 MB 6.8 MB/s eta 0:00:01\n",
      "   ------------------------------- -------- 10.2/12.9 MB 6.7 MB/s eta 0:00:01\n",
      "   -------------------------------- ------- 10.4/12.9 MB 6.7 MB/s eta 0:00:01\n",
      "   -------------------------------- ------- 10.6/12.9 MB 6.6 MB/s eta 0:00:01\n",
      "   --------------------------------- ------ 10.9/12.9 MB 6.5 MB/s eta 0:00:01\n",
      "   ---------------------------------- ----- 11.1/12.9 MB 6.4 MB/s eta 0:00:01\n",
      "   ---------------------------------- ----- 11.3/12.9 MB 6.4 MB/s eta 0:00:01\n",
      "   ----------------------------------- ---- 11.6/12.9 MB 6.2 MB/s eta 0:00:01\n",
      "   ------------------------------------ --- 11.8/12.9 MB 6.2 MB/s eta 0:00:01\n",
      "   ------------------------------------- -- 12.0/12.9 MB 6.1 MB/s eta 0:00:01\n",
      "   ------------------------------------- -- 12.3/12.9 MB 6.0 MB/s eta 0:00:01\n",
      "   -------------------------------------- - 12.5/12.9 MB 6.0 MB/s eta 0:00:01\n",
      "   ---------------------------------------  12.7/12.9 MB 5.8 MB/s eta 0:00:01\n",
      "   ---------------------------------------  12.9/12.9 MB 5.8 MB/s eta 0:00:01\n",
      "   ---------------------------------------- 12.9/12.9 MB 5.7 MB/s eta 0:00:00\n",
      "Installing collected packages: numpy\n",
      "  Attempting uninstall: numpy\n",
      "    Found existing installation: numpy 1.26.0\n",
      "    Uninstalling numpy-1.26.0:\n",
      "      Successfully uninstalled numpy-1.26.0\n",
      "Successfully installed numpy-2.2.4\n"
     ]
    },
    {
     "name": "stderr",
     "output_type": "stream",
     "text": [
      "ERROR: pip's dependency resolver does not currently take into account all the packages that are installed. This behaviour is the source of the following dependency conflicts.\n",
      "mediapipe 0.10.21 requires numpy<2, but you have numpy 2.2.4 which is incompatible.\n",
      "tensorflow-intel 2.18.0 requires numpy<2.1.0,>=1.26.0, but you have numpy 2.2.4 which is incompatible.\n",
      "ultralytics 8.3.85 requires numpy<=2.1.1,>=1.23.0, but you have numpy 2.2.4 which is incompatible.\n",
      "\n",
      "[notice] A new release of pip is available: 23.2.1 -> 25.0.1\n",
      "[notice] To update, run: python.exe -m pip install --upgrade pip\n"
     ]
    }
   ],
   "execution_count": 1
  }
 ],
 "metadata": {
  "kernelspec": {
   "name": "python3",
   "language": "python",
   "display_name": "Python 3 (ipykernel)"
  }
 },
 "nbformat": 5,
 "nbformat_minor": 9
}
